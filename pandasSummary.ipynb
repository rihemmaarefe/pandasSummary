{
  "nbformat": 4,
  "nbformat_minor": 0,
  "metadata": {
    "colab": {
      "provenance": [],
      "collapsed_sections": [
        "JVZqo_q1vCgX",
        "OIT9wW2A2jgI",
        "tXt3Xevr3Rwd",
        "0HAcq7356iZ4",
        "GNLSszTu9ZqQ",
        "jBxlRFf2CNHQ",
        "NDKZmpqqC6RV",
        "t1GxLzamEjEW",
        "a-qcgsYDGmLY",
        "iGvUL3YdG1LW",
        "wPuVJALJJl1N",
        "NAe6QmwLNqE4",
        "3oH_LSjLW2L8",
        "xYk5gA9fY1rr",
        "kgfxzKn2Y7sd",
        "3tm24SMTZrsk",
        "z__a88KNapEF",
        "6ZpDis2PbTYF",
        "yd5LeRugcfH9"
      ],
      "mount_file_id": "1OUJjqJ7l7rJtgnUtDcJwako0RSdaIc5p",
      "authorship_tag": "ABX9TyNNrNxNocW1ZvVa2CCEP8J1",
      "include_colab_link": true
    },
    "kernelspec": {
      "name": "python3",
      "display_name": "Python 3"
    },
    "language_info": {
      "name": "python"
    }
  },
  "cells": [
    {
      "cell_type": "markdown",
      "metadata": {
        "id": "view-in-github",
        "colab_type": "text"
      },
      "source": [
        "<a href=\"https://colab.research.google.com/github/rihemmaarefe/pandasSummary/blob/main/pandasSummary.ipynb\" target=\"_parent\"><img src=\"https://colab.research.google.com/assets/colab-badge.svg\" alt=\"Open In Colab\"/></a>"
      ]
    },
    {
      "cell_type": "markdown",
      "source": [
        "# Introduction"
      ],
      "metadata": {
        "id": "JVZqo_q1vCgX"
      }
    },
    {
      "cell_type": "markdown",
      "source": [
        "**What exactly are pandas?**\n",
        "\n",
        "\n",
        "*   Working with data sets is made possible by the Python package called Pandas.\n",
        "\n",
        "*   It includes tools for discovering, cleaning, analyzing, and modifying data.\n",
        "\n",
        "* Wes McKinney came up with the name \"Pandas\" in 2008, and it makes reference to both \"Panel Data\" and \"Python Data Analysis.\"\n",
        "\n",
        "\n"
      ],
      "metadata": {
        "id": "YhXhTMpP0hvH"
      }
    },
    {
      "cell_type": "markdown",
      "source": [
        "**Why Are Pandas Used?**\n",
        "* With the aid of Pandas, we can analyze large data sets and draw conclusions based on statistical principles.\n",
        "\n",
        "* Pandas can organize disorganized data sets, making them understandable and useful.\n",
        "\n",
        "* In data science, relevant information is required."
      ],
      "metadata": {
        "id": "gZ_RyAqt1u4v"
      }
    },
    {
      "cell_type": "markdown",
      "source": [
        "**What Tasks Can Pandas Perform?**\n",
        "\n",
        "Pandas provides you with information on the data. Like:\n",
        "* Does a relationship exist between two or more columns\n",
        "* What is the median value, The maximum and Minimum value.\n",
        "* Rows that are unnecessary or contain incorrect data, such as empty or NULL values, can also be deleted by Pandas. This process is known as data cleansing."
      ],
      "metadata": {
        "id": "bpMj9Ijb2HgJ"
      }
    },
    {
      "cell_type": "markdown",
      "source": [
        "# Getting stated"
      ],
      "metadata": {
        "id": "OIT9wW2A2jgI"
      }
    },
    {
      "cell_type": "markdown",
      "source": [
        "Installation"
      ],
      "metadata": {
        "id": "v59uocWD2vEl"
      }
    },
    {
      "cell_type": "code",
      "execution_count": null,
      "metadata": {
        "id": "rd376XpzuWhu"
      },
      "outputs": [],
      "source": [
        "!pip install pandas"
      ]
    },
    {
      "cell_type": "markdown",
      "source": [
        "Import Pandas\n"
      ],
      "metadata": {
        "id": "B2chVog22wuQ"
      }
    },
    {
      "cell_type": "code",
      "source": [
        "import pandas as pd"
      ],
      "metadata": {
        "id": "8GRmXx-V2xYn"
      },
      "execution_count": null,
      "outputs": []
    },
    {
      "cell_type": "markdown",
      "source": [
        "Now Pandas is imported and ready to use.\n",
        "\n"
      ],
      "metadata": {
        "id": "NfsEVUSM25od"
      }
    },
    {
      "cell_type": "code",
      "source": [
        "mydataset = {\n",
        "  'Name': [\"Jass\", \"Maysha\", \"Simona\"],\n",
        "  'id': [3, 7, 2]\n",
        "}\n",
        "\n",
        "myvar = pd.DataFrame(mydataset)\n",
        "\n",
        "print(myvar)"
      ],
      "metadata": {
        "colab": {
          "base_uri": "https://localhost:8080/"
        },
        "id": "YXS3z5i124I4",
        "outputId": "1616d539-9bd2-47d0-9ba7-0cffb4bb93df"
      },
      "execution_count": null,
      "outputs": [
        {
          "output_type": "stream",
          "name": "stdout",
          "text": [
            "     Name  id\n",
            "0    Jass   3\n",
            "1  Maysha   7\n",
            "2  Simona   2\n"
          ]
        }
      ]
    },
    {
      "cell_type": "markdown",
      "source": [
        "# Series"
      ],
      "metadata": {
        "id": "tXt3Xevr3Rwd"
      }
    },
    {
      "cell_type": "markdown",
      "source": [
        "A Pandas Series resembles a table's column.\n",
        "\n",
        "It is a one-dimensional array that can contain any kind of data."
      ],
      "metadata": {
        "id": "9O5GfS-h64Lm"
      }
    },
    {
      "cell_type": "code",
      "source": [
        "S = [1, \"nu\", 2]\n",
        "MySerie = pd.Series(S)\n",
        "print(MySerie)"
      ],
      "metadata": {
        "colab": {
          "base_uri": "https://localhost:8080/"
        },
        "id": "0p9dwJ9W3MWm",
        "outputId": "16204c00-579b-442a-f425-5ced98af366b"
      },
      "execution_count": null,
      "outputs": [
        {
          "output_type": "stream",
          "name": "stdout",
          "text": [
            "0     1\n",
            "1    nu\n",
            "2     2\n",
            "dtype: object\n"
          ]
        }
      ]
    },
    {
      "cell_type": "code",
      "source": [
        "# Labels\n",
        "\n",
        "# The values are identified with their index number if nothing else is specified. The index of the first item is 0\n",
        "# that of the second is 1, etc.\n",
        "# To access a particular value, use this label.\n",
        "\n",
        "print(MySerie[0])"
      ],
      "metadata": {
        "colab": {
          "base_uri": "https://localhost:8080/"
        },
        "id": "rLCK1V_E4Zt9",
        "outputId": "74987e9d-72f3-4e8e-d5b3-8ea8bfcdf9ea"
      },
      "execution_count": null,
      "outputs": [
        {
          "output_type": "stream",
          "name": "stdout",
          "text": [
            "1\n"
          ]
        }
      ]
    },
    {
      "cell_type": "code",
      "source": [
        "# Create Labels\n",
        "# You are able to name your own labels using the index option.\n",
        "T = [1, 7, 2]\n",
        "\n",
        "S = pd.Series(T, index = [\"yes\", \"oui\", \"evet\"])\n",
        "# Return the serie\n",
        "print(S)\n",
        "# Return the value of \"oui\"\n",
        "print(S[\"oui\"])"
      ],
      "metadata": {
        "colab": {
          "base_uri": "https://localhost:8080/"
        },
        "id": "_ffVakL34pJv",
        "outputId": "e0137393-4445-43c6-e68e-312a3adbce40"
      },
      "execution_count": null,
      "outputs": [
        {
          "output_type": "stream",
          "name": "stdout",
          "text": [
            "yes     1\n",
            "oui     7\n",
            "evet    2\n",
            "dtype: int64\n",
            "7\n"
          ]
        }
      ]
    },
    {
      "cell_type": "code",
      "source": [
        "# Key/Value Objects as Series\n",
        "age = {\"chams\": 16, \"farah\": 18, \"chahd\": 12, \"rima\": 20}\n",
        "\n",
        "MySerie2 = pd.Series(age)\n",
        "\n",
        "print(MySerie2)"
      ],
      "metadata": {
        "colab": {
          "base_uri": "https://localhost:8080/"
        },
        "id": "Bf31DEu95dVp",
        "outputId": "d3d55eaa-ec8c-4c89-ae7f-332964e603ad"
      },
      "execution_count": null,
      "outputs": [
        {
          "output_type": "stream",
          "name": "stdout",
          "text": [
            "chams    16\n",
            "farah    18\n",
            "chahd    12\n",
            "rima     20\n",
            "dtype: int64\n"
          ]
        }
      ]
    },
    {
      "cell_type": "code",
      "source": [
        "# Create a Series using only data from \"chams\" and \"farah\":\n",
        "mySerie3 = pd.Series(age, index = [\"chams\", \"farah\"])\n",
        "print(mySerie3)"
      ],
      "metadata": {
        "colab": {
          "base_uri": "https://localhost:8080/"
        },
        "id": "n1WqaNpU6QcQ",
        "outputId": "0c12dd95-f9e0-4025-c6b6-9dc44cc0e7c4"
      },
      "execution_count": null,
      "outputs": [
        {
          "output_type": "stream",
          "name": "stdout",
          "text": [
            "chams    16\n",
            "farah    18\n",
            "dtype: int64\n"
          ]
        }
      ]
    },
    {
      "cell_type": "markdown",
      "source": [
        "# DataFrames"
      ],
      "metadata": {
        "id": "0HAcq7356iZ4"
      }
    },
    {
      "cell_type": "markdown",
      "source": [
        "DataFrames, or multi-dimensional tables, are commonly used to store data in Pandas.\n",
        "\n",
        "A DataFrame represents the entire table, whereas Series is similar to a column."
      ],
      "metadata": {
        "id": "4UE5nTkJ6y8-"
      }
    },
    {
      "cell_type": "code",
      "source": [
        "# Create a DataFrame from two Series:\n",
        "\n",
        "data = {\n",
        "  \"name\": ['rima',\"youssef\",\"mouna\",\"tahar\",\"raouf\"],\n",
        "  \"age\": [20, 34, 45, 55, 62],\n",
        "}\n",
        "\n",
        "#load data into a DataFrame object:\n",
        "df = pd.DataFrame(data)\n",
        "print(df)"
      ],
      "metadata": {
        "colab": {
          "base_uri": "https://localhost:8080/"
        },
        "id": "E8vDbap96mKH",
        "outputId": "0fa8253e-b862-473e-f74b-39fa489e2d6e"
      },
      "execution_count": null,
      "outputs": [
        {
          "output_type": "stream",
          "name": "stdout",
          "text": [
            "      name  age\n",
            "0     rima   20\n",
            "1  youssef   34\n",
            "2    mouna   45\n",
            "3    tahar   55\n",
            "4    raouf   62\n"
          ]
        }
      ]
    },
    {
      "cell_type": "code",
      "source": [
        "# Find Row (Locate a row)\n",
        "# The DataFrame is similar to a table with rows and columns, as you can see from the result above.\n",
        "# Pandas utilize the loc property to return one or more specified rows\n",
        "\n",
        "#refer to the row index:\n",
        "print(df.loc[3])"
      ],
      "metadata": {
        "colab": {
          "base_uri": "https://localhost:8080/"
        },
        "id": "zNdMMHXy7tcI",
        "outputId": "12759dfb-607e-4541-bae8-751d1d85bf1d"
      },
      "execution_count": null,
      "outputs": [
        {
          "output_type": "stream",
          "name": "stdout",
          "text": [
            "name    tahar\n",
            "age        55\n",
            "Name: 3, dtype: object\n"
          ]
        }
      ]
    },
    {
      "cell_type": "code",
      "source": [
        "#use a list of indexes: Return row 1 and 2\n",
        "print(df.loc[[1, 2]])"
      ],
      "metadata": {
        "colab": {
          "base_uri": "https://localhost:8080/"
        },
        "id": "_46lmeuZ8BW-",
        "outputId": "4692f02d-2e45-4762-9030-10a2d1c07419"
      },
      "execution_count": null,
      "outputs": [
        {
          "output_type": "stream",
          "name": "stdout",
          "text": [
            "      name  age\n",
            "1  youssef   34\n",
            "2    mouna   45\n"
          ]
        }
      ]
    },
    {
      "cell_type": "code",
      "source": [
        "# Add a list of names to give each row a name:\n",
        "df = pd.DataFrame(data, index = [\"member1\", \"member2\", \"member3\",\"member4\",'member5'])\n",
        "print(df)"
      ],
      "metadata": {
        "colab": {
          "base_uri": "https://localhost:8080/"
        },
        "id": "VtWAnq5K8SUx",
        "outputId": "465d9ed6-f7b5-47d4-8e81-5d2ffcb5ce34"
      },
      "execution_count": null,
      "outputs": [
        {
          "output_type": "stream",
          "name": "stdout",
          "text": [
            "            name  age\n",
            "member1     rima   20\n",
            "member2  youssef   34\n",
            "member3    mouna   45\n",
            "member4    tahar   55\n",
            "member5    raouf   62\n"
          ]
        }
      ]
    },
    {
      "cell_type": "code",
      "source": [
        "# Return \"member2\": Locate \"member2\"\n",
        "print(df.loc[\"member2\"])"
      ],
      "metadata": {
        "colab": {
          "base_uri": "https://localhost:8080/"
        },
        "id": "owUKNKxV8p7W",
        "outputId": "55e051b1-1c90-47e2-ec9c-c1a7a7b7ceb3"
      },
      "execution_count": null,
      "outputs": [
        {
          "output_type": "stream",
          "name": "stdout",
          "text": [
            "name    youssef\n",
            "age          34\n",
            "Name: member2, dtype: object\n"
          ]
        }
      ]
    },
    {
      "cell_type": "markdown",
      "source": [
        "# Read a CSV file"
      ],
      "metadata": {
        "id": "GNLSszTu9ZqQ"
      }
    },
    {
      "cell_type": "code",
      "source": [
        "# Load a comma separated file (CSV file) into a DataFrame:\n",
        "# df = pd.read_csv('NameOfYourDataSet.csv')"
      ],
      "metadata": {
        "id": "fN9iabRj8yeG"
      },
      "execution_count": null,
      "outputs": []
    },
    {
      "cell_type": "code",
      "source": [
        "# Dataset link: https://www.kaggle.com/datasets/madislemsalu/facebook-ad-campaign?resource=download\n",
        "df = pd.read_csv('/content/drive/MyDrive/Colab Notebooks/data.csv')\n",
        "print(df)\n",
        "# print(df.to_string()) "
      ],
      "metadata": {
        "colab": {
          "base_uri": "https://localhost:8080/"
        },
        "id": "9OuNrh_a9-2m",
        "outputId": "5e9195d3-02c2-4e77-f043-9b9dc06f8fc8"
      },
      "execution_count": null,
      "outputs": [
        {
          "output_type": "stream",
          "name": "stdout",
          "text": [
            "        ad_id reporting_start reporting_end campaign_id fb_campaign_id    age  \\\n",
            "0      708746      17/08/2017    17/08/2017         916         103916  30-34   \n",
            "1      708749      17/08/2017    17/08/2017         916         103917  30-34   \n",
            "2      708771      17/08/2017    17/08/2017         916         103920  30-34   \n",
            "3      708815      30/08/2017    30/08/2017         916         103928  30-34   \n",
            "4      708818      17/08/2017    17/08/2017         916         103928  30-34   \n",
            "...       ...             ...           ...         ...            ...    ...   \n",
            "1138  1314410      19/08/2017    19/08/2017       45-49              F    109   \n",
            "1139  1314411      19/08/2017    19/08/2017       45-49              F    110   \n",
            "1140  1314412      19/08/2017    19/08/2017       45-49              F    111   \n",
            "1141  1314414      17/08/2017    17/08/2017       45-49              F    113   \n",
            "1142  1314415      17/08/2017    17/08/2017       45-49              F    114   \n",
            "\n",
            "     gender  interest1  interest2  interest3   impressions  clicks  spent  \\\n",
            "0         M         15         17         17   7350.000000       1   1.43   \n",
            "1         M         16         19         21  17861.000000       2   1.82   \n",
            "2         M         20         25         22    693.000000       0   0.00   \n",
            "3         M         28         32         32   4259.000000       1   1.25   \n",
            "4         M         28         33         32   4133.000000       1   1.29   \n",
            "...     ...        ...        ...        ...           ...     ...    ...   \n",
            "1138    111        114    1129773        252    358.189997      13   2.00   \n",
            "1139    111        116     637549        120    173.880003       3   0.00   \n",
            "1140    113        117     151531         28     40.289999       2   0.00   \n",
            "1141    114        117     790253        135    198.710001       8   2.00   \n",
            "1142    116        118     513161        114    165.609999       5   2.00   \n",
            "\n",
            "      total_conversion  approved_conversion  \n",
            "0                  2.0                  1.0  \n",
            "1                  2.0                  0.0  \n",
            "2                  1.0                  0.0  \n",
            "3                  1.0                  0.0  \n",
            "4                  1.0                  1.0  \n",
            "...                ...                  ...  \n",
            "1138               NaN                  NaN  \n",
            "1139               NaN                  NaN  \n",
            "1140               NaN                  NaN  \n",
            "1141               NaN                  NaN  \n",
            "1142               NaN                  NaN  \n",
            "\n",
            "[1143 rows x 15 columns]\n"
          ]
        }
      ]
    },
    {
      "cell_type": "code",
      "source": [
        "# Count the maximum rows that may be returned\n",
        "print(pd.options.display.max_rows) "
      ],
      "metadata": {
        "colab": {
          "base_uri": "https://localhost:8080/"
        },
        "id": "H4MfZaqNBl2W",
        "outputId": "62417084-c13f-4b07-ec8b-135e5c81985a"
      },
      "execution_count": null,
      "outputs": [
        {
          "output_type": "stream",
          "name": "stdout",
          "text": [
            "60\n"
          ]
        }
      ]
    },
    {
      "cell_type": "markdown",
      "source": [
        "# Read JSON file"
      ],
      "metadata": {
        "id": "jBxlRFf2CNHQ"
      }
    },
    {
      "cell_type": "markdown",
      "source": [
        "Large data sets are frequently extracted or stored as JSON.\n",
        "\n",
        "Although JSON is only plain text, it has the structure of an object and is widely used in programming, including Pandas.\n",
        "\n",
        "                    **JSON = Python Dictionary**\n"
      ],
      "metadata": {
        "id": "QnlyTHc8Ca2H"
      }
    },
    {
      "cell_type": "code",
      "source": [
        "df = pd.read_json('data.json')\n",
        "print(df.to_string()) "
      ],
      "metadata": {
        "id": "YgiiCyr6CPPt"
      },
      "execution_count": null,
      "outputs": []
    },
    {
      "cell_type": "code",
      "source": [
        "# Turn a Dictionary into Dataframe \n",
        "data = {\n",
        "  \"Duration\":{\n",
        "    \"0\":60,\n",
        "    \"1\":60,\n",
        "    \"2\":60,\n",
        "    \"3\":45,\n",
        "    \"4\":45,\n",
        "    \"5\":60\n",
        "  },\n",
        "  \"Pulse\":{\n",
        "    \"0\":110,\n",
        "    \"1\":117,\n",
        "    \"2\":103,\n",
        "    \"3\":109,\n",
        "    \"4\":117,\n",
        "    \"5\":102\n",
        "  },\n",
        "  \"Maxpulse\":{\n",
        "    \"0\":130,\n",
        "    \"1\":145,\n",
        "    \"2\":135,\n",
        "    \"3\":175,\n",
        "    \"4\":148,\n",
        "    \"5\":127\n",
        "  },\n",
        "  \"Calories\":{\n",
        "    \"0\":409,\n",
        "    \"1\":479,\n",
        "    \"2\":340,\n",
        "    \"3\":282,\n",
        "    \"4\":406,\n",
        "    \"5\":300\n",
        "  }\n",
        "}\n",
        "\n",
        "df = pd.DataFrame(data)\n",
        "\n",
        "print(df)"
      ],
      "metadata": {
        "id": "lnnXWK2ZCvz1"
      },
      "execution_count": null,
      "outputs": []
    },
    {
      "cell_type": "markdown",
      "source": [
        "# Analyzing DataFrames"
      ],
      "metadata": {
        "id": "NDKZmpqqC6RV"
      }
    },
    {
      "cell_type": "code",
      "source": [
        "# show the 5 first rows in the dataframe\n",
        "print(df.head())\n",
        "# print(df.head(10))"
      ],
      "metadata": {
        "colab": {
          "base_uri": "https://localhost:8080/"
        },
        "id": "W5bQsdtlC7qW",
        "outputId": "cdf938cf-3119-4286-d300-4dfe374d3a2c"
      },
      "execution_count": null,
      "outputs": [
        {
          "output_type": "stream",
          "name": "stdout",
          "text": [
            "    ad_id reporting_start reporting_end campaign_id fb_campaign_id    age  \\\n",
            "0  708746      17/08/2017    17/08/2017         916         103916  30-34   \n",
            "1  708749      17/08/2017    17/08/2017         916         103917  30-34   \n",
            "2  708771      17/08/2017    17/08/2017         916         103920  30-34   \n",
            "3  708815      30/08/2017    30/08/2017         916         103928  30-34   \n",
            "4  708818      17/08/2017    17/08/2017         916         103928  30-34   \n",
            "\n",
            "  gender  interest1  interest2  interest3  impressions  clicks  spent  \\\n",
            "0      M         15         17         17       7350.0       1   1.43   \n",
            "1      M         16         19         21      17861.0       2   1.82   \n",
            "2      M         20         25         22        693.0       0   0.00   \n",
            "3      M         28         32         32       4259.0       1   1.25   \n",
            "4      M         28         33         32       4133.0       1   1.29   \n",
            "\n",
            "   total_conversion  approved_conversion  \n",
            "0               2.0                  1.0  \n",
            "1               2.0                  0.0  \n",
            "2               1.0                  0.0  \n",
            "3               1.0                  0.0  \n",
            "4               1.0                  1.0  \n"
          ]
        }
      ]
    },
    {
      "cell_type": "code",
      "source": [
        "# Print last 5 rows \n",
        "print(df.tail()) "
      ],
      "metadata": {
        "colab": {
          "base_uri": "https://localhost:8080/"
        },
        "id": "iix79Dm_DQ7f",
        "outputId": "e1b3cd2e-bc80-45a1-f574-eafb5c60fb58"
      },
      "execution_count": null,
      "outputs": [
        {
          "output_type": "stream",
          "name": "stdout",
          "text": [
            "        ad_id reporting_start reporting_end campaign_id fb_campaign_id  age  \\\n",
            "1138  1314410      19/08/2017    19/08/2017       45-49              F  109   \n",
            "1139  1314411      19/08/2017    19/08/2017       45-49              F  110   \n",
            "1140  1314412      19/08/2017    19/08/2017       45-49              F  111   \n",
            "1141  1314414      17/08/2017    17/08/2017       45-49              F  113   \n",
            "1142  1314415      17/08/2017    17/08/2017       45-49              F  114   \n",
            "\n",
            "     gender  interest1  interest2  interest3  impressions  clicks  spent  \\\n",
            "1138    111        114    1129773        252   358.189997      13    2.0   \n",
            "1139    111        116     637549        120   173.880003       3    0.0   \n",
            "1140    113        117     151531         28    40.289999       2    0.0   \n",
            "1141    114        117     790253        135   198.710001       8    2.0   \n",
            "1142    116        118     513161        114   165.609999       5    2.0   \n",
            "\n",
            "      total_conversion  approved_conversion  \n",
            "1138               NaN                  NaN  \n",
            "1139               NaN                  NaN  \n",
            "1140               NaN                  NaN  \n",
            "1141               NaN                  NaN  \n",
            "1142               NaN                  NaN  \n"
          ]
        }
      ]
    },
    {
      "cell_type": "code",
      "source": [
        "# print information about the dataframe\n",
        "print(df.info()) "
      ],
      "metadata": {
        "colab": {
          "base_uri": "https://localhost:8080/"
        },
        "id": "dinPV20vDXhm",
        "outputId": "872f6530-a3ab-44e4-a475-39f28c3514f5"
      },
      "execution_count": null,
      "outputs": [
        {
          "output_type": "stream",
          "name": "stdout",
          "text": [
            "<class 'pandas.core.frame.DataFrame'>\n",
            "RangeIndex: 1143 entries, 0 to 1142\n",
            "Data columns (total 15 columns):\n",
            " #   Column               Non-Null Count  Dtype  \n",
            "---  ------               --------------  -----  \n",
            " 0   ad_id                1143 non-null   int64  \n",
            " 1   reporting_start      1143 non-null   object \n",
            " 2   reporting_end        1143 non-null   object \n",
            " 3   campaign_id          1143 non-null   object \n",
            " 4   fb_campaign_id       1143 non-null   object \n",
            " 5   age                  1143 non-null   object \n",
            " 6   gender               1143 non-null   object \n",
            " 7   interest1            1143 non-null   int64  \n",
            " 8   interest2            1143 non-null   int64  \n",
            " 9   interest3            1143 non-null   int64  \n",
            " 10  impressions          1143 non-null   float64\n",
            " 11  clicks               1143 non-null   int64  \n",
            " 12  spent                1143 non-null   float64\n",
            " 13  total_conversion     761 non-null    float64\n",
            " 14  approved_conversion  761 non-null    float64\n",
            "dtypes: float64(4), int64(5), object(6)\n",
            "memory usage: 134.1+ KB\n",
            "None\n"
          ]
        }
      ]
    },
    {
      "cell_type": "markdown",
      "source": [
        "* We have 1143 row and 15 column\n",
        "* Each column has a name and data-type\n",
        "* The info() method also tells us how many Non-Null values there are present in each column, and in our data set it seems like there are 761 of 1143 Non-Null values in the \"approved_conversion\" and \"total_conversion\" columns."
      ],
      "metadata": {
        "id": "ix-Qt56aDmxW"
      }
    },
    {
      "cell_type": "markdown",
      "source": [
        "#  Data Cleaning"
      ],
      "metadata": {
        "id": "t1GxLzamEjEW"
      }
    },
    {
      "cell_type": "markdown",
      "source": [
        "Fixing inaccurate data in your data set is known as data cleaning.\n",
        "Incorrect data might be:\n",
        "* empty cells :  Can potentially give you a wrong result when you analyze data.\n",
        "\n",
        "\n",
        "* False data format\n",
        "* Incorrect information\n",
        "* Duplicates"
      ],
      "metadata": {
        "id": "NBr1COK0E_we"
      }
    },
    {
      "cell_type": "code",
      "source": [
        "# Return a new Data Frame with no empty cells\n",
        "new_df = df.dropna()\n",
        "print(new_df.to_string())"
      ],
      "metadata": {
        "id": "1JVAT1-eFnt0"
      },
      "execution_count": null,
      "outputs": []
    },
    {
      "cell_type": "markdown",
      "source": [
        "## **Managing Empty Values**"
      ],
      "metadata": {
        "id": "a-qcgsYDGmLY"
      }
    },
    {
      "cell_type": "code",
      "source": [
        "# Remove all rows with NULL values\n",
        "df.dropna(inplace = True)\n",
        "print(df.to_string())"
      ],
      "metadata": {
        "id": "HyZYa2etEgi2"
      },
      "execution_count": null,
      "outputs": []
    },
    {
      "cell_type": "code",
      "source": [
        "# Replace NULL values with the number 90:\n",
        "df.fillna(90, inplace = True)"
      ],
      "metadata": {
        "id": "UUcEa6f1Fwil"
      },
      "execution_count": null,
      "outputs": []
    },
    {
      "cell_type": "code",
      "source": [
        "# Replace NULL values in the \"total_conversion\" columns with the number 130:\n",
        "df[\"total_conversion\"].fillna(130, inplace = True)"
      ],
      "metadata": {
        "id": "dlL2YcpFF452"
      },
      "execution_count": null,
      "outputs": []
    },
    {
      "cell_type": "code",
      "source": [
        "# Calculate the MEAN, and replace any empty values with it\n",
        "x = df[\"total_conversion\"].mean()\n",
        "\n",
        "df[\"total_conversion\"].fillna(x, inplace = True)\n",
        "\n",
        "# Mean = the average value (the sum of all values divided by number of values)."
      ],
      "metadata": {
        "id": "OgJIgj9wGG-d"
      },
      "execution_count": null,
      "outputs": []
    },
    {
      "cell_type": "code",
      "source": [
        "# Calculate the MEDIAN, and replace any empty values with it\n",
        "x = df[\"total_conversion\"].median()\n",
        "\n",
        "df[\"total_conversion\"].fillna(x, inplace = True)\n",
        "\n",
        "# Median = the value in the middle, after you have sorted all values ascending."
      ],
      "metadata": {
        "id": "6JJ_bpanGNHG"
      },
      "execution_count": null,
      "outputs": []
    },
    {
      "cell_type": "code",
      "source": [
        "# Calculate the MODE, and replace any empty values with it\n",
        "x = df[\"Calories\"].mode()[0]\n",
        "\n",
        "df[\"Calories\"].fillna(x, inplace = True)\n",
        "\n",
        "# Mode = the value that appears most frequently."
      ],
      "metadata": {
        "id": "j9wz_msrGXTI"
      },
      "execution_count": null,
      "outputs": []
    },
    {
      "cell_type": "markdown",
      "source": [
        "## **Managing Data of Wrong Format**\n"
      ],
      "metadata": {
        "id": "iGvUL3YdG1LW"
      }
    },
    {
      "cell_type": "markdown",
      "source": [
        "Data analysis may be challenging or even impossible when cells contain incorrectly formatted data.\n",
        "\n",
        "You have two alternatives for fixing it: either get rid of the rows or change all of the columns' cells to the same format."
      ],
      "metadata": {
        "id": "EripN1ecHGCG"
      }
    },
    {
      "cell_type": "code",
      "source": [
        "# Convert Into a Correct Format\n",
        "df['reporting_end'] = pd.to_datetime(df['reporting_end'])\n",
        "# df['reporting_start'] = pd.to_datetime(df['reporting_start'])\n",
        "\n",
        "print(df.to_string())"
      ],
      "metadata": {
        "id": "ajGMcPZyGf_Y"
      },
      "execution_count": null,
      "outputs": []
    },
    {
      "cell_type": "code",
      "source": [
        "# Remove rows with a NULL value in the \"Date\" column\n",
        "df.dropna(subset=['reporting_end'], inplace = True)"
      ],
      "metadata": {
        "id": "B8461vuRHh4t"
      },
      "execution_count": null,
      "outputs": []
    },
    {
      "cell_type": "code",
      "source": [
        "# Wrong data does not have to be \"empty cells\" or \"wrong format\", it can just be wrong, like if someone registered \"199\" instead of \"1.99\".\n",
        "# Set \"reporting_start\" = 2022-08-24 in row 7:\n",
        "df.loc[7, 'reporting_start'] = \"2022-08-24\""
      ],
      "metadata": {
        "id": "8niGmMzrH5zv"
      },
      "execution_count": null,
      "outputs": []
    },
    {
      "cell_type": "code",
      "source": [
        "# Loop through all values in the \"interest2\" column.\n",
        "# If the value is higher than 17, set it to 20\n",
        "\n",
        "for x in df.index:\n",
        "  if df.loc[x, \"interest2\"] > 17:\n",
        "    df.loc[x, \"interest2\"] = 20"
      ],
      "metadata": {
        "id": "n-T3NE6lIauf"
      },
      "execution_count": null,
      "outputs": []
    },
    {
      "cell_type": "code",
      "source": [
        "# Delete rows where \"interest2\" is higher than 20\n",
        "for x in df.index:\n",
        "  if df.loc[x, \"interest2\"] > 20:\n",
        "    df.drop(x, inplace = True)"
      ],
      "metadata": {
        "id": "7MHJbH2cI8fu"
      },
      "execution_count": null,
      "outputs": []
    },
    {
      "cell_type": "markdown",
      "source": [
        "## Managing duplications"
      ],
      "metadata": {
        "id": "Ye6KfplxJKEu"
      }
    },
    {
      "cell_type": "code",
      "source": [
        "# Returns True for every row that is a duplicate, othwerwise False\n",
        "print(df.duplicated())"
      ],
      "metadata": {
        "id": "CtnW4pyRJORW"
      },
      "execution_count": null,
      "outputs": []
    },
    {
      "cell_type": "code",
      "source": [
        "# Remove all duplicates:\n",
        "df.drop_duplicates(inplace = True)"
      ],
      "metadata": {
        "id": "rBGX_qr3Jcmu"
      },
      "execution_count": null,
      "outputs": []
    },
    {
      "cell_type": "markdown",
      "source": [
        "# Data Correlations"
      ],
      "metadata": {
        "id": "wPuVJALJJl1N"
      }
    },
    {
      "cell_type": "markdown",
      "source": [
        "**Finding Relationship = Data correlation**\n",
        "\n",
        "A great aspect of the Pandas module is the corr() method.\n",
        "\n",
        "* The corr() method calculates the relationship between each column in your data set."
      ],
      "metadata": {
        "id": "B1fKl5dOJuQd"
      }
    },
    {
      "cell_type": "code",
      "source": [
        "df.corr()\n",
        "# Note: The corr() method ignores \"not numeric\" columns."
      ],
      "metadata": {
        "colab": {
          "base_uri": "https://localhost:8080/",
          "height": 331
        },
        "id": "KO2Q3TWIJnqG",
        "outputId": "f2e67913-0894-409d-fa67-a56f649d92d6"
      },
      "execution_count": null,
      "outputs": [
        {
          "output_type": "execute_result",
          "data": {
            "text/plain": [
              "                        ad_id  interest1  interest2  interest3  impressions  \\\n",
              "ad_id                1.000000   0.057123  -0.044883   0.058860     0.469574   \n",
              "interest1            0.057123   1.000000   0.467432   0.994256    -0.074681   \n",
              "interest2           -0.044883   0.467432   1.000000   0.461987    -0.013327   \n",
              "interest3            0.058860   0.994256   0.461987   1.000000    -0.070391   \n",
              "impressions          0.469574  -0.074681  -0.013327  -0.070391     1.000000   \n",
              "clicks               0.456385  -0.071820  -0.016657  -0.067944     0.970509   \n",
              "spent                0.458612  -0.072188  -0.016547  -0.068379     0.980036   \n",
              "total_conversion     0.337959  -0.077155  -0.015345  -0.073855     0.885863   \n",
              "approved_conversion  0.302495  -0.057761  -0.036086  -0.055626     0.761856   \n",
              "\n",
              "                       clicks     spent  total_conversion  approved_conversion  \n",
              "ad_id                0.456385  0.458612          0.337959             0.302495  \n",
              "interest1           -0.071820 -0.072188         -0.077155            -0.057761  \n",
              "interest2           -0.016657 -0.016547         -0.015345            -0.036086  \n",
              "interest3           -0.067944 -0.068379         -0.073855            -0.055626  \n",
              "impressions          0.970509  0.980036          0.885863             0.761856  \n",
              "clicks               1.000000  0.997355          0.808487             0.673458  \n",
              "spent                0.997355  1.000000          0.825692             0.687713  \n",
              "total_conversion     0.808487  0.825692          1.000000             0.881020  \n",
              "approved_conversion  0.673458  0.687713          0.881020             1.000000  "
            ],
            "text/html": [
              "\n",
              "  <div id=\"df-48d4b699-e840-44e0-9a3a-df55269a789f\">\n",
              "    <div class=\"colab-df-container\">\n",
              "      <div>\n",
              "<style scoped>\n",
              "    .dataframe tbody tr th:only-of-type {\n",
              "        vertical-align: middle;\n",
              "    }\n",
              "\n",
              "    .dataframe tbody tr th {\n",
              "        vertical-align: top;\n",
              "    }\n",
              "\n",
              "    .dataframe thead th {\n",
              "        text-align: right;\n",
              "    }\n",
              "</style>\n",
              "<table border=\"1\" class=\"dataframe\">\n",
              "  <thead>\n",
              "    <tr style=\"text-align: right;\">\n",
              "      <th></th>\n",
              "      <th>ad_id</th>\n",
              "      <th>interest1</th>\n",
              "      <th>interest2</th>\n",
              "      <th>interest3</th>\n",
              "      <th>impressions</th>\n",
              "      <th>clicks</th>\n",
              "      <th>spent</th>\n",
              "      <th>total_conversion</th>\n",
              "      <th>approved_conversion</th>\n",
              "    </tr>\n",
              "  </thead>\n",
              "  <tbody>\n",
              "    <tr>\n",
              "      <th>ad_id</th>\n",
              "      <td>1.000000</td>\n",
              "      <td>0.057123</td>\n",
              "      <td>-0.044883</td>\n",
              "      <td>0.058860</td>\n",
              "      <td>0.469574</td>\n",
              "      <td>0.456385</td>\n",
              "      <td>0.458612</td>\n",
              "      <td>0.337959</td>\n",
              "      <td>0.302495</td>\n",
              "    </tr>\n",
              "    <tr>\n",
              "      <th>interest1</th>\n",
              "      <td>0.057123</td>\n",
              "      <td>1.000000</td>\n",
              "      <td>0.467432</td>\n",
              "      <td>0.994256</td>\n",
              "      <td>-0.074681</td>\n",
              "      <td>-0.071820</td>\n",
              "      <td>-0.072188</td>\n",
              "      <td>-0.077155</td>\n",
              "      <td>-0.057761</td>\n",
              "    </tr>\n",
              "    <tr>\n",
              "      <th>interest2</th>\n",
              "      <td>-0.044883</td>\n",
              "      <td>0.467432</td>\n",
              "      <td>1.000000</td>\n",
              "      <td>0.461987</td>\n",
              "      <td>-0.013327</td>\n",
              "      <td>-0.016657</td>\n",
              "      <td>-0.016547</td>\n",
              "      <td>-0.015345</td>\n",
              "      <td>-0.036086</td>\n",
              "    </tr>\n",
              "    <tr>\n",
              "      <th>interest3</th>\n",
              "      <td>0.058860</td>\n",
              "      <td>0.994256</td>\n",
              "      <td>0.461987</td>\n",
              "      <td>1.000000</td>\n",
              "      <td>-0.070391</td>\n",
              "      <td>-0.067944</td>\n",
              "      <td>-0.068379</td>\n",
              "      <td>-0.073855</td>\n",
              "      <td>-0.055626</td>\n",
              "    </tr>\n",
              "    <tr>\n",
              "      <th>impressions</th>\n",
              "      <td>0.469574</td>\n",
              "      <td>-0.074681</td>\n",
              "      <td>-0.013327</td>\n",
              "      <td>-0.070391</td>\n",
              "      <td>1.000000</td>\n",
              "      <td>0.970509</td>\n",
              "      <td>0.980036</td>\n",
              "      <td>0.885863</td>\n",
              "      <td>0.761856</td>\n",
              "    </tr>\n",
              "    <tr>\n",
              "      <th>clicks</th>\n",
              "      <td>0.456385</td>\n",
              "      <td>-0.071820</td>\n",
              "      <td>-0.016657</td>\n",
              "      <td>-0.067944</td>\n",
              "      <td>0.970509</td>\n",
              "      <td>1.000000</td>\n",
              "      <td>0.997355</td>\n",
              "      <td>0.808487</td>\n",
              "      <td>0.673458</td>\n",
              "    </tr>\n",
              "    <tr>\n",
              "      <th>spent</th>\n",
              "      <td>0.458612</td>\n",
              "      <td>-0.072188</td>\n",
              "      <td>-0.016547</td>\n",
              "      <td>-0.068379</td>\n",
              "      <td>0.980036</td>\n",
              "      <td>0.997355</td>\n",
              "      <td>1.000000</td>\n",
              "      <td>0.825692</td>\n",
              "      <td>0.687713</td>\n",
              "    </tr>\n",
              "    <tr>\n",
              "      <th>total_conversion</th>\n",
              "      <td>0.337959</td>\n",
              "      <td>-0.077155</td>\n",
              "      <td>-0.015345</td>\n",
              "      <td>-0.073855</td>\n",
              "      <td>0.885863</td>\n",
              "      <td>0.808487</td>\n",
              "      <td>0.825692</td>\n",
              "      <td>1.000000</td>\n",
              "      <td>0.881020</td>\n",
              "    </tr>\n",
              "    <tr>\n",
              "      <th>approved_conversion</th>\n",
              "      <td>0.302495</td>\n",
              "      <td>-0.057761</td>\n",
              "      <td>-0.036086</td>\n",
              "      <td>-0.055626</td>\n",
              "      <td>0.761856</td>\n",
              "      <td>0.673458</td>\n",
              "      <td>0.687713</td>\n",
              "      <td>0.881020</td>\n",
              "      <td>1.000000</td>\n",
              "    </tr>\n",
              "  </tbody>\n",
              "</table>\n",
              "</div>\n",
              "      <button class=\"colab-df-convert\" onclick=\"convertToInteractive('df-48d4b699-e840-44e0-9a3a-df55269a789f')\"\n",
              "              title=\"Convert this dataframe to an interactive table.\"\n",
              "              style=\"display:none;\">\n",
              "        \n",
              "  <svg xmlns=\"http://www.w3.org/2000/svg\" height=\"24px\"viewBox=\"0 0 24 24\"\n",
              "       width=\"24px\">\n",
              "    <path d=\"M0 0h24v24H0V0z\" fill=\"none\"/>\n",
              "    <path d=\"M18.56 5.44l.94 2.06.94-2.06 2.06-.94-2.06-.94-.94-2.06-.94 2.06-2.06.94zm-11 1L8.5 8.5l.94-2.06 2.06-.94-2.06-.94L8.5 2.5l-.94 2.06-2.06.94zm10 10l.94 2.06.94-2.06 2.06-.94-2.06-.94-.94-2.06-.94 2.06-2.06.94z\"/><path d=\"M17.41 7.96l-1.37-1.37c-.4-.4-.92-.59-1.43-.59-.52 0-1.04.2-1.43.59L10.3 9.45l-7.72 7.72c-.78.78-.78 2.05 0 2.83L4 21.41c.39.39.9.59 1.41.59.51 0 1.02-.2 1.41-.59l7.78-7.78 2.81-2.81c.8-.78.8-2.07 0-2.86zM5.41 20L4 18.59l7.72-7.72 1.47 1.35L5.41 20z\"/>\n",
              "  </svg>\n",
              "      </button>\n",
              "      \n",
              "  <style>\n",
              "    .colab-df-container {\n",
              "      display:flex;\n",
              "      flex-wrap:wrap;\n",
              "      gap: 12px;\n",
              "    }\n",
              "\n",
              "    .colab-df-convert {\n",
              "      background-color: #E8F0FE;\n",
              "      border: none;\n",
              "      border-radius: 50%;\n",
              "      cursor: pointer;\n",
              "      display: none;\n",
              "      fill: #1967D2;\n",
              "      height: 32px;\n",
              "      padding: 0 0 0 0;\n",
              "      width: 32px;\n",
              "    }\n",
              "\n",
              "    .colab-df-convert:hover {\n",
              "      background-color: #E2EBFA;\n",
              "      box-shadow: 0px 1px 2px rgba(60, 64, 67, 0.3), 0px 1px 3px 1px rgba(60, 64, 67, 0.15);\n",
              "      fill: #174EA6;\n",
              "    }\n",
              "\n",
              "    [theme=dark] .colab-df-convert {\n",
              "      background-color: #3B4455;\n",
              "      fill: #D2E3FC;\n",
              "    }\n",
              "\n",
              "    [theme=dark] .colab-df-convert:hover {\n",
              "      background-color: #434B5C;\n",
              "      box-shadow: 0px 1px 3px 1px rgba(0, 0, 0, 0.15);\n",
              "      filter: drop-shadow(0px 1px 2px rgba(0, 0, 0, 0.3));\n",
              "      fill: #FFFFFF;\n",
              "    }\n",
              "  </style>\n",
              "\n",
              "      <script>\n",
              "        const buttonEl =\n",
              "          document.querySelector('#df-48d4b699-e840-44e0-9a3a-df55269a789f button.colab-df-convert');\n",
              "        buttonEl.style.display =\n",
              "          google.colab.kernel.accessAllowed ? 'block' : 'none';\n",
              "\n",
              "        async function convertToInteractive(key) {\n",
              "          const element = document.querySelector('#df-48d4b699-e840-44e0-9a3a-df55269a789f');\n",
              "          const dataTable =\n",
              "            await google.colab.kernel.invokeFunction('convertToInteractive',\n",
              "                                                     [key], {});\n",
              "          if (!dataTable) return;\n",
              "\n",
              "          const docLinkHtml = 'Like what you see? Visit the ' +\n",
              "            '<a target=\"_blank\" href=https://colab.research.google.com/notebooks/data_table.ipynb>data table notebook</a>'\n",
              "            + ' to learn more about interactive tables.';\n",
              "          element.innerHTML = '';\n",
              "          dataTable['output_type'] = 'display_data';\n",
              "          await google.colab.output.renderOutput(dataTable, element);\n",
              "          const docLink = document.createElement('div');\n",
              "          docLink.innerHTML = docLinkHtml;\n",
              "          element.appendChild(docLink);\n",
              "        }\n",
              "      </script>\n",
              "    </div>\n",
              "  </div>\n",
              "  "
            ]
          },
          "metadata": {},
          "execution_count": 83
        }
      ]
    },
    {
      "cell_type": "markdown",
      "source": [
        "The correlation number varies from -1 to 1.\n",
        "\n",
        "* 1 means that there is a 1 to 1 relationship (a perfect correlation), and for this data set, each time a value went up in the first column, the other one went up as well.\n",
        "\n",
        "* 0.9 is also a good relationship, and if you increase one value, the other will probably increase as well.\n",
        "\n",
        "* -0.9 would be just as good relationship as 0.9, but if you increase one value, the other will probably go down.\n",
        "\n",
        "* 0.2 means NOT a good relationship, meaning that if one value goes up does not mean that the other will.\n",
        "\n",
        "                       **have at least 0.6 (or -0.6) to call it a good correlation**"
      ],
      "metadata": {
        "id": "ft1GCfk6KFzg"
      }
    },
    {
      "cell_type": "markdown",
      "source": [
        "# Plotting"
      ],
      "metadata": {
        "id": "NAe6QmwLNqE4"
      }
    },
    {
      "cell_type": "code",
      "source": [
        "import matplotlib.pyplot as plt\n",
        "# df.plot()\n",
        "# plt.show()"
      ],
      "metadata": {
        "id": "ODkOiatZKMoW"
      },
      "execution_count": null,
      "outputs": []
    },
    {
      "cell_type": "markdown",
      "source": [
        "## Scatter Plot"
      ],
      "metadata": {
        "id": "3oH_LSjLW2L8"
      }
    },
    {
      "cell_type": "code",
      "source": [
        "# for good correlation\n",
        "df.plot(kind = 'scatter', x = 'spent', y = 'impressions')\n",
        "plt.show()"
      ],
      "metadata": {
        "colab": {
          "base_uri": "https://localhost:8080/",
          "height": 290
        },
        "id": "r2jmH1WCPE-V",
        "outputId": "7daac6d0-d4e6-4ca6-c7d3-b413ddbc1110"
      },
      "execution_count": null,
      "outputs": [
        {
          "output_type": "display_data",
          "data": {
            "text/plain": [
              "<Figure size 432x288 with 1 Axes>"
            ],
            "image/png": "[encoded data removed]"
          },
          "metadata": {
            "needs_background": "light"
          }
        }
      ]
    },
    {
      "cell_type": "markdown",
      "source": [
        "we can conclude that: \n",
        "\n",
        "                   -> less spent more people impression "
      ],
      "metadata": {
        "id": "FQ-C-Iy2V6WI"
      }
    },
    {
      "cell_type": "code",
      "source": [
        "# for bad correlation\n",
        "df.plot(kind = 'scatter', x = 'ad_id', y = 'approved_conversion')\n",
        "plt.show()"
      ],
      "metadata": {
        "colab": {
          "base_uri": "https://localhost:8080/",
          "height": 280
        },
        "id": "tHOTC2pdWJid",
        "outputId": "26bc2022-2fa0-40af-b65c-96c2d1929955"
      },
      "execution_count": null,
      "outputs": [
        {
          "output_type": "display_data",
          "data": {
            "text/plain": [
              "<Figure size 432x288 with 1 Axes>"
            ],
            "image/png": "[encoded data removed]"
          },
          "metadata": {
            "needs_background": "light"
          }
        }
      ]
    },
    {
      "cell_type": "markdown",
      "source": [
        "## Histogram"
      ],
      "metadata": {
        "id": "Amwox_JRW7j8"
      }
    },
    {
      "cell_type": "markdown",
      "source": [
        "Use the kind argument to specify that you want a histogram:\n",
        "\n",
        "**kind = 'hist'**\n",
        "\n",
        "* A histogram needs only one column.\n",
        "\n",
        "* A histogram shows us the frequency of each interval, e.g. how many workouts lasted between 50 and 60 minutes?"
      ],
      "metadata": {
        "id": "Rzity21ZXHgG"
      }
    },
    {
      "cell_type": "code",
      "source": [
        "df[\"impressions\"].plot(kind = 'hist')"
      ],
      "metadata": {
        "colab": {
          "base_uri": "https://localhost:8080/",
          "height": 296
        },
        "id": "y-Ya0ypmW-OU",
        "outputId": "f1f607d7-6b08-42d1-e9e1-35c501759741"
      },
      "execution_count": null,
      "outputs": [
        {
          "output_type": "execute_result",
          "data": {
            "text/plain": [
              "<matplotlib.axes._subplots.AxesSubplot at 0x7ff50f981850>"
            ]
          },
          "metadata": {},
          "execution_count": 90
        },
        {
          "output_type": "display_data",
          "data": {
            "text/plain": [
              "<Figure size 432x288 with 1 Axes>"
            ],
            "image/png": "[encoded data removed]"
          },
          "metadata": {
            "needs_background": "light"
          }
        }
      ]
    },
    {
      "cell_type": "markdown",
      "source": [
        "The histogram tells us that almost 700 spent between 0.0 to 0.25 impression"
      ],
      "metadata": {
        "id": "hYXpKj7HXqzH"
      }
    },
    {
      "cell_type": "markdown",
      "source": [
        "# Operations"
      ],
      "metadata": {
        "id": "xYk5gA9fY1rr"
      }
    },
    {
      "cell_type": "markdown",
      "source": [
        "## Join"
      ],
      "metadata": {
        "id": "kgfxzKn2Y7sd"
      }
    },
    {
      "cell_type": "code",
      "source": [
        "left = pd.DataFrame({\"key\": [\"foo\", \"foo\"], \"lvalues\": [1, 2]})\n",
        "right = pd.DataFrame({\"key\": [\"foo\", \"foo\"], \"rvalues\": [4, 5]})\n",
        "\n",
        "print(left)\n",
        "print(right)"
      ],
      "metadata": {
        "colab": {
          "base_uri": "https://localhost:8080/"
        },
        "id": "-b3h2o59Y5hV",
        "outputId": "08537905-c575-412f-b859-3316c6bb57f8"
      },
      "execution_count": null,
      "outputs": [
        {
          "output_type": "stream",
          "name": "stdout",
          "text": [
            "   key  lvalues\n",
            "0  foo        1\n",
            "1  foo        2\n",
            "   key  rvalues\n",
            "0  foo        4\n",
            "1  foo        5\n"
          ]
        }
      ]
    },
    {
      "cell_type": "code",
      "source": [
        "pd.merge(left, right, on=\"key\")"
      ],
      "metadata": {
        "colab": {
          "base_uri": "https://localhost:8080/",
          "height": 175
        },
        "id": "jwomitOmZHI9",
        "outputId": "f8c5b119-b5f9-45a5-871a-116569211ed2"
      },
      "execution_count": null,
      "outputs": [
        {
          "output_type": "execute_result",
          "data": {
            "text/plain": [
              "   key  lvalues  rvalues\n",
              "0  foo        1        4\n",
              "1  foo        1        5\n",
              "2  foo        2        4\n",
              "3  foo        2        5"
            ],
            "text/html": [
              "\n",
              "  <div id=\"df-c6eeb229-23f8-4f6b-b640-2c9e8166b8b1\">\n",
              "    <div class=\"colab-df-container\">\n",
              "      <div>\n",
              "<style scoped>\n",
              "    .dataframe tbody tr th:only-of-type {\n",
              "        vertical-align: middle;\n",
              "    }\n",
              "\n",
              "    .dataframe tbody tr th {\n",
              "        vertical-align: top;\n",
              "    }\n",
              "\n",
              "    .dataframe thead th {\n",
              "        text-align: right;\n",
              "    }\n",
              "</style>\n",
              "<table border=\"1\" class=\"dataframe\">\n",
              "  <thead>\n",
              "    <tr style=\"text-align: right;\">\n",
              "      <th></th>\n",
              "      <th>key</th>\n",
              "      <th>lvalues</th>\n",
              "      <th>rvalues</th>\n",
              "    </tr>\n",
              "  </thead>\n",
              "  <tbody>\n",
              "    <tr>\n",
              "      <th>0</th>\n",
              "      <td>foo</td>\n",
              "      <td>1</td>\n",
              "      <td>4</td>\n",
              "    </tr>\n",
              "    <tr>\n",
              "      <th>1</th>\n",
              "      <td>foo</td>\n",
              "      <td>1</td>\n",
              "      <td>5</td>\n",
              "    </tr>\n",
              "    <tr>\n",
              "      <th>2</th>\n",
              "      <td>foo</td>\n",
              "      <td>2</td>\n",
              "      <td>4</td>\n",
              "    </tr>\n",
              "    <tr>\n",
              "      <th>3</th>\n",
              "      <td>foo</td>\n",
              "      <td>2</td>\n",
              "      <td>5</td>\n",
              "    </tr>\n",
              "  </tbody>\n",
              "</table>\n",
              "</div>\n",
              "      <button class=\"colab-df-convert\" onclick=\"convertToInteractive('df-c6eeb229-23f8-4f6b-b640-2c9e8166b8b1')\"\n",
              "              title=\"Convert this dataframe to an interactive table.\"\n",
              "              style=\"display:none;\">\n",
              "        \n",
              "  <svg xmlns=\"http://www.w3.org/2000/svg\" height=\"24px\"viewBox=\"0 0 24 24\"\n",
              "       width=\"24px\">\n",
              "    <path d=\"M0 0h24v24H0V0z\" fill=\"none\"/>\n",
              "    <path d=\"M18.56 5.44l.94 2.06.94-2.06 2.06-.94-2.06-.94-.94-2.06-.94 2.06-2.06.94zm-11 1L8.5 8.5l.94-2.06 2.06-.94-2.06-.94L8.5 2.5l-.94 2.06-2.06.94zm10 10l.94 2.06.94-2.06 2.06-.94-2.06-.94-.94-2.06-.94 2.06-2.06.94z\"/><path d=\"M17.41 7.96l-1.37-1.37c-.4-.4-.92-.59-1.43-.59-.52 0-1.04.2-1.43.59L10.3 9.45l-7.72 7.72c-.78.78-.78 2.05 0 2.83L4 21.41c.39.39.9.59 1.41.59.51 0 1.02-.2 1.41-.59l7.78-7.78 2.81-2.81c.8-.78.8-2.07 0-2.86zM5.41 20L4 18.59l7.72-7.72 1.47 1.35L5.41 20z\"/>\n",
              "  </svg>\n",
              "      </button>\n",
              "      \n",
              "  <style>\n",
              "    .colab-df-container {\n",
              "      display:flex;\n",
              "      flex-wrap:wrap;\n",
              "      gap: 12px;\n",
              "    }\n",
              "\n",
              "    .colab-df-convert {\n",
              "      background-color: #E8F0FE;\n",
              "      border: none;\n",
              "      border-radius: 50%;\n",
              "      cursor: pointer;\n",
              "      display: none;\n",
              "      fill: #1967D2;\n",
              "      height: 32px;\n",
              "      padding: 0 0 0 0;\n",
              "      width: 32px;\n",
              "    }\n",
              "\n",
              "    .colab-df-convert:hover {\n",
              "      background-color: #E2EBFA;\n",
              "      box-shadow: 0px 1px 2px rgba(60, 64, 67, 0.3), 0px 1px 3px 1px rgba(60, 64, 67, 0.15);\n",
              "      fill: #174EA6;\n",
              "    }\n",
              "\n",
              "    [theme=dark] .colab-df-convert {\n",
              "      background-color: #3B4455;\n",
              "      fill: #D2E3FC;\n",
              "    }\n",
              "\n",
              "    [theme=dark] .colab-df-convert:hover {\n",
              "      background-color: #434B5C;\n",
              "      box-shadow: 0px 1px 3px 1px rgba(0, 0, 0, 0.15);\n",
              "      filter: drop-shadow(0px 1px 2px rgba(0, 0, 0, 0.3));\n",
              "      fill: #FFFFFF;\n",
              "    }\n",
              "  </style>\n",
              "\n",
              "      <script>\n",
              "        const buttonEl =\n",
              "          document.querySelector('#df-c6eeb229-23f8-4f6b-b640-2c9e8166b8b1 button.colab-df-convert');\n",
              "        buttonEl.style.display =\n",
              "          google.colab.kernel.accessAllowed ? 'block' : 'none';\n",
              "\n",
              "        async function convertToInteractive(key) {\n",
              "          const element = document.querySelector('#df-c6eeb229-23f8-4f6b-b640-2c9e8166b8b1');\n",
              "          const dataTable =\n",
              "            await google.colab.kernel.invokeFunction('convertToInteractive',\n",
              "                                                     [key], {});\n",
              "          if (!dataTable) return;\n",
              "\n",
              "          const docLinkHtml = 'Like what you see? Visit the ' +\n",
              "            '<a target=\"_blank\" href=https://colab.research.google.com/notebooks/data_table.ipynb>data table notebook</a>'\n",
              "            + ' to learn more about interactive tables.';\n",
              "          element.innerHTML = '';\n",
              "          dataTable['output_type'] = 'display_data';\n",
              "          await google.colab.output.renderOutput(dataTable, element);\n",
              "          const docLink = document.createElement('div');\n",
              "          docLink.innerHTML = docLinkHtml;\n",
              "          element.appendChild(docLink);\n",
              "        }\n",
              "      </script>\n",
              "    </div>\n",
              "  </div>\n",
              "  "
            ]
          },
          "metadata": {},
          "execution_count": 98
        }
      ]
    },
    {
      "cell_type": "code",
      "source": [
        "# Another example\n",
        "left = pd.DataFrame({\"key\": [\"foo\", \"bar\"], \"lvalues\": [1, 2]})\n",
        "right = pd.DataFrame({\"key\": [\"foo\", \"bar\"], \"rvalues\": [4, 5]})\n",
        "\n",
        "pd.merge(left, right, on=\"key\")"
      ],
      "metadata": {
        "colab": {
          "base_uri": "https://localhost:8080/",
          "height": 112
        },
        "id": "vrwaV_IxZi-k",
        "outputId": "8da6904a-3293-41ec-faed-1c6af028583f"
      },
      "execution_count": null,
      "outputs": [
        {
          "output_type": "execute_result",
          "data": {
            "text/plain": [
              "   key  lvalues  rvalues\n",
              "0  foo        1        4\n",
              "1  bar        2        5"
            ],
            "text/html": [
              "\n",
              "  <div id=\"df-4d9553f4-ff13-4a78-b4a8-7cdfcb313513\">\n",
              "    <div class=\"colab-df-container\">\n",
              "      <div>\n",
              "<style scoped>\n",
              "    .dataframe tbody tr th:only-of-type {\n",
              "        vertical-align: middle;\n",
              "    }\n",
              "\n",
              "    .dataframe tbody tr th {\n",
              "        vertical-align: top;\n",
              "    }\n",
              "\n",
              "    .dataframe thead th {\n",
              "        text-align: right;\n",
              "    }\n",
              "</style>\n",
              "<table border=\"1\" class=\"dataframe\">\n",
              "  <thead>\n",
              "    <tr style=\"text-align: right;\">\n",
              "      <th></th>\n",
              "      <th>key</th>\n",
              "      <th>lvalues</th>\n",
              "      <th>rvalues</th>\n",
              "    </tr>\n",
              "  </thead>\n",
              "  <tbody>\n",
              "    <tr>\n",
              "      <th>0</th>\n",
              "      <td>foo</td>\n",
              "      <td>1</td>\n",
              "      <td>4</td>\n",
              "    </tr>\n",
              "    <tr>\n",
              "      <th>1</th>\n",
              "      <td>bar</td>\n",
              "      <td>2</td>\n",
              "      <td>5</td>\n",
              "    </tr>\n",
              "  </tbody>\n",
              "</table>\n",
              "</div>\n",
              "      <button class=\"colab-df-convert\" onclick=\"convertToInteractive('df-4d9553f4-ff13-4a78-b4a8-7cdfcb313513')\"\n",
              "              title=\"Convert this dataframe to an interactive table.\"\n",
              "              style=\"display:none;\">\n",
              "        \n",
              "  <svg xmlns=\"http://www.w3.org/2000/svg\" height=\"24px\"viewBox=\"0 0 24 24\"\n",
              "       width=\"24px\">\n",
              "    <path d=\"M0 0h24v24H0V0z\" fill=\"none\"/>\n",
              "    <path d=\"M18.56 5.44l.94 2.06.94-2.06 2.06-.94-2.06-.94-.94-2.06-.94 2.06-2.06.94zm-11 1L8.5 8.5l.94-2.06 2.06-.94-2.06-.94L8.5 2.5l-.94 2.06-2.06.94zm10 10l.94 2.06.94-2.06 2.06-.94-2.06-.94-.94-2.06-.94 2.06-2.06.94z\"/><path d=\"M17.41 7.96l-1.37-1.37c-.4-.4-.92-.59-1.43-.59-.52 0-1.04.2-1.43.59L10.3 9.45l-7.72 7.72c-.78.78-.78 2.05 0 2.83L4 21.41c.39.39.9.59 1.41.59.51 0 1.02-.2 1.41-.59l7.78-7.78 2.81-2.81c.8-.78.8-2.07 0-2.86zM5.41 20L4 18.59l7.72-7.72 1.47 1.35L5.41 20z\"/>\n",
              "  </svg>\n",
              "      </button>\n",
              "      \n",
              "  <style>\n",
              "    .colab-df-container {\n",
              "      display:flex;\n",
              "      flex-wrap:wrap;\n",
              "      gap: 12px;\n",
              "    }\n",
              "\n",
              "    .colab-df-convert {\n",
              "      background-color: #E8F0FE;\n",
              "      border: none;\n",
              "      border-radius: 50%;\n",
              "      cursor: pointer;\n",
              "      display: none;\n",
              "      fill: #1967D2;\n",
              "      height: 32px;\n",
              "      padding: 0 0 0 0;\n",
              "      width: 32px;\n",
              "    }\n",
              "\n",
              "    .colab-df-convert:hover {\n",
              "      background-color: #E2EBFA;\n",
              "      box-shadow: 0px 1px 2px rgba(60, 64, 67, 0.3), 0px 1px 3px 1px rgba(60, 64, 67, 0.15);\n",
              "      fill: #174EA6;\n",
              "    }\n",
              "\n",
              "    [theme=dark] .colab-df-convert {\n",
              "      background-color: #3B4455;\n",
              "      fill: #D2E3FC;\n",
              "    }\n",
              "\n",
              "    [theme=dark] .colab-df-convert:hover {\n",
              "      background-color: #434B5C;\n",
              "      box-shadow: 0px 1px 3px 1px rgba(0, 0, 0, 0.15);\n",
              "      filter: drop-shadow(0px 1px 2px rgba(0, 0, 0, 0.3));\n",
              "      fill: #FFFFFF;\n",
              "    }\n",
              "  </style>\n",
              "\n",
              "      <script>\n",
              "        const buttonEl =\n",
              "          document.querySelector('#df-4d9553f4-ff13-4a78-b4a8-7cdfcb313513 button.colab-df-convert');\n",
              "        buttonEl.style.display =\n",
              "          google.colab.kernel.accessAllowed ? 'block' : 'none';\n",
              "\n",
              "        async function convertToInteractive(key) {\n",
              "          const element = document.querySelector('#df-4d9553f4-ff13-4a78-b4a8-7cdfcb313513');\n",
              "          const dataTable =\n",
              "            await google.colab.kernel.invokeFunction('convertToInteractive',\n",
              "                                                     [key], {});\n",
              "          if (!dataTable) return;\n",
              "\n",
              "          const docLinkHtml = 'Like what you see? Visit the ' +\n",
              "            '<a target=\"_blank\" href=https://colab.research.google.com/notebooks/data_table.ipynb>data table notebook</a>'\n",
              "            + ' to learn more about interactive tables.';\n",
              "          element.innerHTML = '';\n",
              "          dataTable['output_type'] = 'display_data';\n",
              "          await google.colab.output.renderOutput(dataTable, element);\n",
              "          const docLink = document.createElement('div');\n",
              "          docLink.innerHTML = docLinkHtml;\n",
              "          element.appendChild(docLink);\n",
              "        }\n",
              "      </script>\n",
              "    </div>\n",
              "  </div>\n",
              "  "
            ]
          },
          "metadata": {},
          "execution_count": 100
        }
      ]
    },
    {
      "cell_type": "markdown",
      "source": [
        "## Grouping"
      ],
      "metadata": {
        "id": "3tm24SMTZrsk"
      }
    },
    {
      "cell_type": "markdown",
      "source": [
        "By “group by” we are referring to a process involving one or more of the following steps:\n",
        "\n",
        "* Splitting the data into groups based on some criteria\n",
        "\n",
        "* Applying a function to each group independently\n",
        "\n",
        "* Combining the results into a data structure"
      ],
      "metadata": {
        "id": "79RYCpVoZyNl"
      }
    },
    {
      "cell_type": "code",
      "source": [
        "import numpy as np\n",
        "df = pd.DataFrame(\n",
        "    {\n",
        "        \"A\": [\"foo\", \"bar\", \"foo\", \"bar\", \"foo\", \"bar\", \"foo\", \"foo\"],\n",
        "        \"B\": [\"one\", \"one\", \"two\", \"three\", \"two\", \"two\", \"one\", \"three\"],\n",
        "        \"C\": np.random.randn(8),\n",
        "        \"D\": np.random.randn(8),\n",
        "    }\n",
        ")\n",
        "\n",
        "df"
      ],
      "metadata": {
        "colab": {
          "base_uri": "https://localhost:8080/",
          "height": 300
        },
        "id": "HoNpsCKSZtjl",
        "outputId": "66281150-db17-4c34-a23c-3c0ac874a6bc"
      },
      "execution_count": null,
      "outputs": [
        {
          "output_type": "execute_result",
          "data": {
            "text/plain": [
              "     A      B         C         D\n",
              "0  foo    one -1.469162 -1.815553\n",
              "1  bar    one  2.092666  0.941211\n",
              "2  foo    two -1.180179  0.416020\n",
              "3  bar  three -1.979011  0.962159\n",
              "4  foo    two -0.640257 -0.872643\n",
              "5  bar    two -0.847825  0.166297\n",
              "6  foo    one -0.208824  0.562501\n",
              "7  foo  three  0.892411  0.496514"
            ],
            "text/html": [
              "\n",
              "  <div id=\"df-227332e6-40e4-480d-9384-72513fb4f0a8\">\n",
              "    <div class=\"colab-df-container\">\n",
              "      <div>\n",
              "<style scoped>\n",
              "    .dataframe tbody tr th:only-of-type {\n",
              "        vertical-align: middle;\n",
              "    }\n",
              "\n",
              "    .dataframe tbody tr th {\n",
              "        vertical-align: top;\n",
              "    }\n",
              "\n",
              "    .dataframe thead th {\n",
              "        text-align: right;\n",
              "    }\n",
              "</style>\n",
              "<table border=\"1\" class=\"dataframe\">\n",
              "  <thead>\n",
              "    <tr style=\"text-align: right;\">\n",
              "      <th></th>\n",
              "      <th>A</th>\n",
              "      <th>B</th>\n",
              "      <th>C</th>\n",
              "      <th>D</th>\n",
              "    </tr>\n",
              "  </thead>\n",
              "  <tbody>\n",
              "    <tr>\n",
              "      <th>0</th>\n",
              "      <td>foo</td>\n",
              "      <td>one</td>\n",
              "      <td>-1.469162</td>\n",
              "      <td>-1.815553</td>\n",
              "    </tr>\n",
              "    <tr>\n",
              "      <th>1</th>\n",
              "      <td>bar</td>\n",
              "      <td>one</td>\n",
              "      <td>2.092666</td>\n",
              "      <td>0.941211</td>\n",
              "    </tr>\n",
              "    <tr>\n",
              "      <th>2</th>\n",
              "      <td>foo</td>\n",
              "      <td>two</td>\n",
              "      <td>-1.180179</td>\n",
              "      <td>0.416020</td>\n",
              "    </tr>\n",
              "    <tr>\n",
              "      <th>3</th>\n",
              "      <td>bar</td>\n",
              "      <td>three</td>\n",
              "      <td>-1.979011</td>\n",
              "      <td>0.962159</td>\n",
              "    </tr>\n",
              "    <tr>\n",
              "      <th>4</th>\n",
              "      <td>foo</td>\n",
              "      <td>two</td>\n",
              "      <td>-0.640257</td>\n",
              "      <td>-0.872643</td>\n",
              "    </tr>\n",
              "    <tr>\n",
              "      <th>5</th>\n",
              "      <td>bar</td>\n",
              "      <td>two</td>\n",
              "      <td>-0.847825</td>\n",
              "      <td>0.166297</td>\n",
              "    </tr>\n",
              "    <tr>\n",
              "      <th>6</th>\n",
              "      <td>foo</td>\n",
              "      <td>one</td>\n",
              "      <td>-0.208824</td>\n",
              "      <td>0.562501</td>\n",
              "    </tr>\n",
              "    <tr>\n",
              "      <th>7</th>\n",
              "      <td>foo</td>\n",
              "      <td>three</td>\n",
              "      <td>0.892411</td>\n",
              "      <td>0.496514</td>\n",
              "    </tr>\n",
              "  </tbody>\n",
              "</table>\n",
              "</div>\n",
              "      <button class=\"colab-df-convert\" onclick=\"convertToInteractive('df-227332e6-40e4-480d-9384-72513fb4f0a8')\"\n",
              "              title=\"Convert this dataframe to an interactive table.\"\n",
              "              style=\"display:none;\">\n",
              "        \n",
              "  <svg xmlns=\"http://www.w3.org/2000/svg\" height=\"24px\"viewBox=\"0 0 24 24\"\n",
              "       width=\"24px\">\n",
              "    <path d=\"M0 0h24v24H0V0z\" fill=\"none\"/>\n",
              "    <path d=\"M18.56 5.44l.94 2.06.94-2.06 2.06-.94-2.06-.94-.94-2.06-.94 2.06-2.06.94zm-11 1L8.5 8.5l.94-2.06 2.06-.94-2.06-.94L8.5 2.5l-.94 2.06-2.06.94zm10 10l.94 2.06.94-2.06 2.06-.94-2.06-.94-.94-2.06-.94 2.06-2.06.94z\"/><path d=\"M17.41 7.96l-1.37-1.37c-.4-.4-.92-.59-1.43-.59-.52 0-1.04.2-1.43.59L10.3 9.45l-7.72 7.72c-.78.78-.78 2.05 0 2.83L4 21.41c.39.39.9.59 1.41.59.51 0 1.02-.2 1.41-.59l7.78-7.78 2.81-2.81c.8-.78.8-2.07 0-2.86zM5.41 20L4 18.59l7.72-7.72 1.47 1.35L5.41 20z\"/>\n",
              "  </svg>\n",
              "      </button>\n",
              "      \n",
              "  <style>\n",
              "    .colab-df-container {\n",
              "      display:flex;\n",
              "      flex-wrap:wrap;\n",
              "      gap: 12px;\n",
              "    }\n",
              "\n",
              "    .colab-df-convert {\n",
              "      background-color: #E8F0FE;\n",
              "      border: none;\n",
              "      border-radius: 50%;\n",
              "      cursor: pointer;\n",
              "      display: none;\n",
              "      fill: #1967D2;\n",
              "      height: 32px;\n",
              "      padding: 0 0 0 0;\n",
              "      width: 32px;\n",
              "    }\n",
              "\n",
              "    .colab-df-convert:hover {\n",
              "      background-color: #E2EBFA;\n",
              "      box-shadow: 0px 1px 2px rgba(60, 64, 67, 0.3), 0px 1px 3px 1px rgba(60, 64, 67, 0.15);\n",
              "      fill: #174EA6;\n",
              "    }\n",
              "\n",
              "    [theme=dark] .colab-df-convert {\n",
              "      background-color: #3B4455;\n",
              "      fill: #D2E3FC;\n",
              "    }\n",
              "\n",
              "    [theme=dark] .colab-df-convert:hover {\n",
              "      background-color: #434B5C;\n",
              "      box-shadow: 0px 1px 3px 1px rgba(0, 0, 0, 0.15);\n",
              "      filter: drop-shadow(0px 1px 2px rgba(0, 0, 0, 0.3));\n",
              "      fill: #FFFFFF;\n",
              "    }\n",
              "  </style>\n",
              "\n",
              "      <script>\n",
              "        const buttonEl =\n",
              "          document.querySelector('#df-227332e6-40e4-480d-9384-72513fb4f0a8 button.colab-df-convert');\n",
              "        buttonEl.style.display =\n",
              "          google.colab.kernel.accessAllowed ? 'block' : 'none';\n",
              "\n",
              "        async function convertToInteractive(key) {\n",
              "          const element = document.querySelector('#df-227332e6-40e4-480d-9384-72513fb4f0a8');\n",
              "          const dataTable =\n",
              "            await google.colab.kernel.invokeFunction('convertToInteractive',\n",
              "                                                     [key], {});\n",
              "          if (!dataTable) return;\n",
              "\n",
              "          const docLinkHtml = 'Like what you see? Visit the ' +\n",
              "            '<a target=\"_blank\" href=https://colab.research.google.com/notebooks/data_table.ipynb>data table notebook</a>'\n",
              "            + ' to learn more about interactive tables.';\n",
              "          element.innerHTML = '';\n",
              "          dataTable['output_type'] = 'display_data';\n",
              "          await google.colab.output.renderOutput(dataTable, element);\n",
              "          const docLink = document.createElement('div');\n",
              "          docLink.innerHTML = docLinkHtml;\n",
              "          element.appendChild(docLink);\n",
              "        }\n",
              "      </script>\n",
              "    </div>\n",
              "  </div>\n",
              "  "
            ]
          },
          "metadata": {},
          "execution_count": 105
        }
      ]
    },
    {
      "cell_type": "code",
      "source": [
        "# Grouping and then applying the sum() function to the resulting groups:\n",
        "df.groupby(\"A\").sum()"
      ],
      "metadata": {
        "colab": {
          "base_uri": "https://localhost:8080/",
          "height": 143
        },
        "id": "ibKdKF_WaKXe",
        "outputId": "7e4352e7-b204-47bb-83b2-465e7e40b3e1"
      },
      "execution_count": null,
      "outputs": [
        {
          "output_type": "execute_result",
          "data": {
            "text/plain": [
              "            C         D\n",
              "A                      \n",
              "bar -0.734169  2.069666\n",
              "foo -2.606011 -1.213160"
            ],
            "text/html": [
              "\n",
              "  <div id=\"df-e2077d62-fafa-4c7a-b6f7-eb31bf38e22a\">\n",
              "    <div class=\"colab-df-container\">\n",
              "      <div>\n",
              "<style scoped>\n",
              "    .dataframe tbody tr th:only-of-type {\n",
              "        vertical-align: middle;\n",
              "    }\n",
              "\n",
              "    .dataframe tbody tr th {\n",
              "        vertical-align: top;\n",
              "    }\n",
              "\n",
              "    .dataframe thead th {\n",
              "        text-align: right;\n",
              "    }\n",
              "</style>\n",
              "<table border=\"1\" class=\"dataframe\">\n",
              "  <thead>\n",
              "    <tr style=\"text-align: right;\">\n",
              "      <th></th>\n",
              "      <th>C</th>\n",
              "      <th>D</th>\n",
              "    </tr>\n",
              "    <tr>\n",
              "      <th>A</th>\n",
              "      <th></th>\n",
              "      <th></th>\n",
              "    </tr>\n",
              "  </thead>\n",
              "  <tbody>\n",
              "    <tr>\n",
              "      <th>bar</th>\n",
              "      <td>-0.734169</td>\n",
              "      <td>2.069666</td>\n",
              "    </tr>\n",
              "    <tr>\n",
              "      <th>foo</th>\n",
              "      <td>-2.606011</td>\n",
              "      <td>-1.213160</td>\n",
              "    </tr>\n",
              "  </tbody>\n",
              "</table>\n",
              "</div>\n",
              "      <button class=\"colab-df-convert\" onclick=\"convertToInteractive('df-e2077d62-fafa-4c7a-b6f7-eb31bf38e22a')\"\n",
              "              title=\"Convert this dataframe to an interactive table.\"\n",
              "              style=\"display:none;\">\n",
              "        \n",
              "  <svg xmlns=\"http://www.w3.org/2000/svg\" height=\"24px\"viewBox=\"0 0 24 24\"\n",
              "       width=\"24px\">\n",
              "    <path d=\"M0 0h24v24H0V0z\" fill=\"none\"/>\n",
              "    <path d=\"M18.56 5.44l.94 2.06.94-2.06 2.06-.94-2.06-.94-.94-2.06-.94 2.06-2.06.94zm-11 1L8.5 8.5l.94-2.06 2.06-.94-2.06-.94L8.5 2.5l-.94 2.06-2.06.94zm10 10l.94 2.06.94-2.06 2.06-.94-2.06-.94-.94-2.06-.94 2.06-2.06.94z\"/><path d=\"M17.41 7.96l-1.37-1.37c-.4-.4-.92-.59-1.43-.59-.52 0-1.04.2-1.43.59L10.3 9.45l-7.72 7.72c-.78.78-.78 2.05 0 2.83L4 21.41c.39.39.9.59 1.41.59.51 0 1.02-.2 1.41-.59l7.78-7.78 2.81-2.81c.8-.78.8-2.07 0-2.86zM5.41 20L4 18.59l7.72-7.72 1.47 1.35L5.41 20z\"/>\n",
              "  </svg>\n",
              "      </button>\n",
              "      \n",
              "  <style>\n",
              "    .colab-df-container {\n",
              "      display:flex;\n",
              "      flex-wrap:wrap;\n",
              "      gap: 12px;\n",
              "    }\n",
              "\n",
              "    .colab-df-convert {\n",
              "      background-color: #E8F0FE;\n",
              "      border: none;\n",
              "      border-radius: 50%;\n",
              "      cursor: pointer;\n",
              "      display: none;\n",
              "      fill: #1967D2;\n",
              "      height: 32px;\n",
              "      padding: 0 0 0 0;\n",
              "      width: 32px;\n",
              "    }\n",
              "\n",
              "    .colab-df-convert:hover {\n",
              "      background-color: #E2EBFA;\n",
              "      box-shadow: 0px 1px 2px rgba(60, 64, 67, 0.3), 0px 1px 3px 1px rgba(60, 64, 67, 0.15);\n",
              "      fill: #174EA6;\n",
              "    }\n",
              "\n",
              "    [theme=dark] .colab-df-convert {\n",
              "      background-color: #3B4455;\n",
              "      fill: #D2E3FC;\n",
              "    }\n",
              "\n",
              "    [theme=dark] .colab-df-convert:hover {\n",
              "      background-color: #434B5C;\n",
              "      box-shadow: 0px 1px 3px 1px rgba(0, 0, 0, 0.15);\n",
              "      filter: drop-shadow(0px 1px 2px rgba(0, 0, 0, 0.3));\n",
              "      fill: #FFFFFF;\n",
              "    }\n",
              "  </style>\n",
              "\n",
              "      <script>\n",
              "        const buttonEl =\n",
              "          document.querySelector('#df-e2077d62-fafa-4c7a-b6f7-eb31bf38e22a button.colab-df-convert');\n",
              "        buttonEl.style.display =\n",
              "          google.colab.kernel.accessAllowed ? 'block' : 'none';\n",
              "\n",
              "        async function convertToInteractive(key) {\n",
              "          const element = document.querySelector('#df-e2077d62-fafa-4c7a-b6f7-eb31bf38e22a');\n",
              "          const dataTable =\n",
              "            await google.colab.kernel.invokeFunction('convertToInteractive',\n",
              "                                                     [key], {});\n",
              "          if (!dataTable) return;\n",
              "\n",
              "          const docLinkHtml = 'Like what you see? Visit the ' +\n",
              "            '<a target=\"_blank\" href=https://colab.research.google.com/notebooks/data_table.ipynb>data table notebook</a>'\n",
              "            + ' to learn more about interactive tables.';\n",
              "          element.innerHTML = '';\n",
              "          dataTable['output_type'] = 'display_data';\n",
              "          await google.colab.output.renderOutput(dataTable, element);\n",
              "          const docLink = document.createElement('div');\n",
              "          docLink.innerHTML = docLinkHtml;\n",
              "          element.appendChild(docLink);\n",
              "        }\n",
              "      </script>\n",
              "    </div>\n",
              "  </div>\n",
              "  "
            ]
          },
          "metadata": {},
          "execution_count": 106
        }
      ]
    },
    {
      "cell_type": "code",
      "source": [
        "# Grouping by multiple columns forms a hierarchical index, and again we can apply the sum() function:\n",
        "df.groupby([\"A\", \"B\"]).sum()"
      ],
      "metadata": {
        "colab": {
          "base_uri": "https://localhost:8080/",
          "height": 269
        },
        "id": "eBvPrB3vaRkm",
        "outputId": "eeb4679f-9426-4973-88a5-800f7b605c37"
      },
      "execution_count": null,
      "outputs": [
        {
          "output_type": "execute_result",
          "data": {
            "text/plain": [
              "                  C         D\n",
              "A   B                        \n",
              "bar one    2.092666  0.941211\n",
              "    three -1.979011  0.962159\n",
              "    two   -0.847825  0.166297\n",
              "foo one   -1.677986 -1.253052\n",
              "    three  0.892411  0.496514\n",
              "    two   -1.820436 -0.456622"
            ],
            "text/html": [
              "\n",
              "  <div id=\"df-3e90b227-9632-4d4e-88ae-a8e8575b910b\">\n",
              "    <div class=\"colab-df-container\">\n",
              "      <div>\n",
              "<style scoped>\n",
              "    .dataframe tbody tr th:only-of-type {\n",
              "        vertical-align: middle;\n",
              "    }\n",
              "\n",
              "    .dataframe tbody tr th {\n",
              "        vertical-align: top;\n",
              "    }\n",
              "\n",
              "    .dataframe thead th {\n",
              "        text-align: right;\n",
              "    }\n",
              "</style>\n",
              "<table border=\"1\" class=\"dataframe\">\n",
              "  <thead>\n",
              "    <tr style=\"text-align: right;\">\n",
              "      <th></th>\n",
              "      <th></th>\n",
              "      <th>C</th>\n",
              "      <th>D</th>\n",
              "    </tr>\n",
              "    <tr>\n",
              "      <th>A</th>\n",
              "      <th>B</th>\n",
              "      <th></th>\n",
              "      <th></th>\n",
              "    </tr>\n",
              "  </thead>\n",
              "  <tbody>\n",
              "    <tr>\n",
              "      <th rowspan=\"3\" valign=\"top\">bar</th>\n",
              "      <th>one</th>\n",
              "      <td>2.092666</td>\n",
              "      <td>0.941211</td>\n",
              "    </tr>\n",
              "    <tr>\n",
              "      <th>three</th>\n",
              "      <td>-1.979011</td>\n",
              "      <td>0.962159</td>\n",
              "    </tr>\n",
              "    <tr>\n",
              "      <th>two</th>\n",
              "      <td>-0.847825</td>\n",
              "      <td>0.166297</td>\n",
              "    </tr>\n",
              "    <tr>\n",
              "      <th rowspan=\"3\" valign=\"top\">foo</th>\n",
              "      <th>one</th>\n",
              "      <td>-1.677986</td>\n",
              "      <td>-1.253052</td>\n",
              "    </tr>\n",
              "    <tr>\n",
              "      <th>three</th>\n",
              "      <td>0.892411</td>\n",
              "      <td>0.496514</td>\n",
              "    </tr>\n",
              "    <tr>\n",
              "      <th>two</th>\n",
              "      <td>-1.820436</td>\n",
              "      <td>-0.456622</td>\n",
              "    </tr>\n",
              "  </tbody>\n",
              "</table>\n",
              "</div>\n",
              "      <button class=\"colab-df-convert\" onclick=\"convertToInteractive('df-3e90b227-9632-4d4e-88ae-a8e8575b910b')\"\n",
              "              title=\"Convert this dataframe to an interactive table.\"\n",
              "              style=\"display:none;\">\n",
              "        \n",
              "  <svg xmlns=\"http://www.w3.org/2000/svg\" height=\"24px\"viewBox=\"0 0 24 24\"\n",
              "       width=\"24px\">\n",
              "    <path d=\"M0 0h24v24H0V0z\" fill=\"none\"/>\n",
              "    <path d=\"M18.56 5.44l.94 2.06.94-2.06 2.06-.94-2.06-.94-.94-2.06-.94 2.06-2.06.94zm-11 1L8.5 8.5l.94-2.06 2.06-.94-2.06-.94L8.5 2.5l-.94 2.06-2.06.94zm10 10l.94 2.06.94-2.06 2.06-.94-2.06-.94-.94-2.06-.94 2.06-2.06.94z\"/><path d=\"M17.41 7.96l-1.37-1.37c-.4-.4-.92-.59-1.43-.59-.52 0-1.04.2-1.43.59L10.3 9.45l-7.72 7.72c-.78.78-.78 2.05 0 2.83L4 21.41c.39.39.9.59 1.41.59.51 0 1.02-.2 1.41-.59l7.78-7.78 2.81-2.81c.8-.78.8-2.07 0-2.86zM5.41 20L4 18.59l7.72-7.72 1.47 1.35L5.41 20z\"/>\n",
              "  </svg>\n",
              "      </button>\n",
              "      \n",
              "  <style>\n",
              "    .colab-df-container {\n",
              "      display:flex;\n",
              "      flex-wrap:wrap;\n",
              "      gap: 12px;\n",
              "    }\n",
              "\n",
              "    .colab-df-convert {\n",
              "      background-color: #E8F0FE;\n",
              "      border: none;\n",
              "      border-radius: 50%;\n",
              "      cursor: pointer;\n",
              "      display: none;\n",
              "      fill: #1967D2;\n",
              "      height: 32px;\n",
              "      padding: 0 0 0 0;\n",
              "      width: 32px;\n",
              "    }\n",
              "\n",
              "    .colab-df-convert:hover {\n",
              "      background-color: #E2EBFA;\n",
              "      box-shadow: 0px 1px 2px rgba(60, 64, 67, 0.3), 0px 1px 3px 1px rgba(60, 64, 67, 0.15);\n",
              "      fill: #174EA6;\n",
              "    }\n",
              "\n",
              "    [theme=dark] .colab-df-convert {\n",
              "      background-color: #3B4455;\n",
              "      fill: #D2E3FC;\n",
              "    }\n",
              "\n",
              "    [theme=dark] .colab-df-convert:hover {\n",
              "      background-color: #434B5C;\n",
              "      box-shadow: 0px 1px 3px 1px rgba(0, 0, 0, 0.15);\n",
              "      filter: drop-shadow(0px 1px 2px rgba(0, 0, 0, 0.3));\n",
              "      fill: #FFFFFF;\n",
              "    }\n",
              "  </style>\n",
              "\n",
              "      <script>\n",
              "        const buttonEl =\n",
              "          document.querySelector('#df-3e90b227-9632-4d4e-88ae-a8e8575b910b button.colab-df-convert');\n",
              "        buttonEl.style.display =\n",
              "          google.colab.kernel.accessAllowed ? 'block' : 'none';\n",
              "\n",
              "        async function convertToInteractive(key) {\n",
              "          const element = document.querySelector('#df-3e90b227-9632-4d4e-88ae-a8e8575b910b');\n",
              "          const dataTable =\n",
              "            await google.colab.kernel.invokeFunction('convertToInteractive',\n",
              "                                                     [key], {});\n",
              "          if (!dataTable) return;\n",
              "\n",
              "          const docLinkHtml = 'Like what you see? Visit the ' +\n",
              "            '<a target=\"_blank\" href=https://colab.research.google.com/notebooks/data_table.ipynb>data table notebook</a>'\n",
              "            + ' to learn more about interactive tables.';\n",
              "          element.innerHTML = '';\n",
              "          dataTable['output_type'] = 'display_data';\n",
              "          await google.colab.output.renderOutput(dataTable, element);\n",
              "          const docLink = document.createElement('div');\n",
              "          docLink.innerHTML = docLinkHtml;\n",
              "          element.appendChild(docLink);\n",
              "        }\n",
              "      </script>\n",
              "    </div>\n",
              "  </div>\n",
              "  "
            ]
          },
          "metadata": {},
          "execution_count": 107
        }
      ]
    },
    {
      "cell_type": "markdown",
      "source": [
        "## Pivot tables"
      ],
      "metadata": {
        "id": "z__a88KNapEF"
      }
    },
    {
      "cell_type": "code",
      "source": [
        "df = pd.DataFrame(\n",
        "    {\n",
        "        \"A\": [\"one\", \"one\", \"two\", \"three\"] * 3,\n",
        "        \"B\": [\"A\", \"B\", \"C\"] * 4,\n",
        "        \"C\": [\"foo\", \"foo\", \"foo\", \"bar\", \"bar\", \"bar\"] * 2,\n",
        "        \"D\": np.random.randn(12),\n",
        "        \"E\": np.random.randn(12),\n",
        "    }\n",
        ")\n",
        "\n",
        "df"
      ],
      "metadata": {
        "colab": {
          "base_uri": "https://localhost:8080/",
          "height": 425
        },
        "id": "Bt0OkcK7atNd",
        "outputId": "692374c5-e82f-4116-c0ef-a8ee2637d9d0"
      },
      "execution_count": null,
      "outputs": [
        {
          "output_type": "execute_result",
          "data": {
            "text/plain": [
              "        A  B    C         D         E\n",
              "0     one  A  foo  1.240784 -0.066794\n",
              "1     one  B  foo -2.811122 -1.470184\n",
              "2     two  C  foo  0.777763 -0.998180\n",
              "3   three  A  bar  0.679135 -0.999504\n",
              "4     one  B  bar  0.432479  0.011610\n",
              "5     one  C  bar -0.373389 -1.334012\n",
              "6     two  A  foo -0.718784  1.000991\n",
              "7   three  B  foo  2.087311 -1.511860\n",
              "8     one  C  foo -1.197840 -0.552777\n",
              "9     one  A  bar  0.314558 -0.705683\n",
              "10    two  B  bar  0.010816  0.053760\n",
              "11  three  C  bar  0.676724 -0.075977"
            ],
            "text/html": [
              "\n",
              "  <div id=\"df-2e0edaf2-5b48-4e69-ac8d-c7f4c23b067c\">\n",
              "    <div class=\"colab-df-container\">\n",
              "      <div>\n",
              "<style scoped>\n",
              "    .dataframe tbody tr th:only-of-type {\n",
              "        vertical-align: middle;\n",
              "    }\n",
              "\n",
              "    .dataframe tbody tr th {\n",
              "        vertical-align: top;\n",
              "    }\n",
              "\n",
              "    .dataframe thead th {\n",
              "        text-align: right;\n",
              "    }\n",
              "</style>\n",
              "<table border=\"1\" class=\"dataframe\">\n",
              "  <thead>\n",
              "    <tr style=\"text-align: right;\">\n",
              "      <th></th>\n",
              "      <th>A</th>\n",
              "      <th>B</th>\n",
              "      <th>C</th>\n",
              "      <th>D</th>\n",
              "      <th>E</th>\n",
              "    </tr>\n",
              "  </thead>\n",
              "  <tbody>\n",
              "    <tr>\n",
              "      <th>0</th>\n",
              "      <td>one</td>\n",
              "      <td>A</td>\n",
              "      <td>foo</td>\n",
              "      <td>1.240784</td>\n",
              "      <td>-0.066794</td>\n",
              "    </tr>\n",
              "    <tr>\n",
              "      <th>1</th>\n",
              "      <td>one</td>\n",
              "      <td>B</td>\n",
              "      <td>foo</td>\n",
              "      <td>-2.811122</td>\n",
              "      <td>-1.470184</td>\n",
              "    </tr>\n",
              "    <tr>\n",
              "      <th>2</th>\n",
              "      <td>two</td>\n",
              "      <td>C</td>\n",
              "      <td>foo</td>\n",
              "      <td>0.777763</td>\n",
              "      <td>-0.998180</td>\n",
              "    </tr>\n",
              "    <tr>\n",
              "      <th>3</th>\n",
              "      <td>three</td>\n",
              "      <td>A</td>\n",
              "      <td>bar</td>\n",
              "      <td>0.679135</td>\n",
              "      <td>-0.999504</td>\n",
              "    </tr>\n",
              "    <tr>\n",
              "      <th>4</th>\n",
              "      <td>one</td>\n",
              "      <td>B</td>\n",
              "      <td>bar</td>\n",
              "      <td>0.432479</td>\n",
              "      <td>0.011610</td>\n",
              "    </tr>\n",
              "    <tr>\n",
              "      <th>5</th>\n",
              "      <td>one</td>\n",
              "      <td>C</td>\n",
              "      <td>bar</td>\n",
              "      <td>-0.373389</td>\n",
              "      <td>-1.334012</td>\n",
              "    </tr>\n",
              "    <tr>\n",
              "      <th>6</th>\n",
              "      <td>two</td>\n",
              "      <td>A</td>\n",
              "      <td>foo</td>\n",
              "      <td>-0.718784</td>\n",
              "      <td>1.000991</td>\n",
              "    </tr>\n",
              "    <tr>\n",
              "      <th>7</th>\n",
              "      <td>three</td>\n",
              "      <td>B</td>\n",
              "      <td>foo</td>\n",
              "      <td>2.087311</td>\n",
              "      <td>-1.511860</td>\n",
              "    </tr>\n",
              "    <tr>\n",
              "      <th>8</th>\n",
              "      <td>one</td>\n",
              "      <td>C</td>\n",
              "      <td>foo</td>\n",
              "      <td>-1.197840</td>\n",
              "      <td>-0.552777</td>\n",
              "    </tr>\n",
              "    <tr>\n",
              "      <th>9</th>\n",
              "      <td>one</td>\n",
              "      <td>A</td>\n",
              "      <td>bar</td>\n",
              "      <td>0.314558</td>\n",
              "      <td>-0.705683</td>\n",
              "    </tr>\n",
              "    <tr>\n",
              "      <th>10</th>\n",
              "      <td>two</td>\n",
              "      <td>B</td>\n",
              "      <td>bar</td>\n",
              "      <td>0.010816</td>\n",
              "      <td>0.053760</td>\n",
              "    </tr>\n",
              "    <tr>\n",
              "      <th>11</th>\n",
              "      <td>three</td>\n",
              "      <td>C</td>\n",
              "      <td>bar</td>\n",
              "      <td>0.676724</td>\n",
              "      <td>-0.075977</td>\n",
              "    </tr>\n",
              "  </tbody>\n",
              "</table>\n",
              "</div>\n",
              "      <button class=\"colab-df-convert\" onclick=\"convertToInteractive('df-2e0edaf2-5b48-4e69-ac8d-c7f4c23b067c')\"\n",
              "              title=\"Convert this dataframe to an interactive table.\"\n",
              "              style=\"display:none;\">\n",
              "        \n",
              "  <svg xmlns=\"http://www.w3.org/2000/svg\" height=\"24px\"viewBox=\"0 0 24 24\"\n",
              "       width=\"24px\">\n",
              "    <path d=\"M0 0h24v24H0V0z\" fill=\"none\"/>\n",
              "    <path d=\"M18.56 5.44l.94 2.06.94-2.06 2.06-.94-2.06-.94-.94-2.06-.94 2.06-2.06.94zm-11 1L8.5 8.5l.94-2.06 2.06-.94-2.06-.94L8.5 2.5l-.94 2.06-2.06.94zm10 10l.94 2.06.94-2.06 2.06-.94-2.06-.94-.94-2.06-.94 2.06-2.06.94z\"/><path d=\"M17.41 7.96l-1.37-1.37c-.4-.4-.92-.59-1.43-.59-.52 0-1.04.2-1.43.59L10.3 9.45l-7.72 7.72c-.78.78-.78 2.05 0 2.83L4 21.41c.39.39.9.59 1.41.59.51 0 1.02-.2 1.41-.59l7.78-7.78 2.81-2.81c.8-.78.8-2.07 0-2.86zM5.41 20L4 18.59l7.72-7.72 1.47 1.35L5.41 20z\"/>\n",
              "  </svg>\n",
              "      </button>\n",
              "      \n",
              "  <style>\n",
              "    .colab-df-container {\n",
              "      display:flex;\n",
              "      flex-wrap:wrap;\n",
              "      gap: 12px;\n",
              "    }\n",
              "\n",
              "    .colab-df-convert {\n",
              "      background-color: #E8F0FE;\n",
              "      border: none;\n",
              "      border-radius: 50%;\n",
              "      cursor: pointer;\n",
              "      display: none;\n",
              "      fill: #1967D2;\n",
              "      height: 32px;\n",
              "      padding: 0 0 0 0;\n",
              "      width: 32px;\n",
              "    }\n",
              "\n",
              "    .colab-df-convert:hover {\n",
              "      background-color: #E2EBFA;\n",
              "      box-shadow: 0px 1px 2px rgba(60, 64, 67, 0.3), 0px 1px 3px 1px rgba(60, 64, 67, 0.15);\n",
              "      fill: #174EA6;\n",
              "    }\n",
              "\n",
              "    [theme=dark] .colab-df-convert {\n",
              "      background-color: #3B4455;\n",
              "      fill: #D2E3FC;\n",
              "    }\n",
              "\n",
              "    [theme=dark] .colab-df-convert:hover {\n",
              "      background-color: #434B5C;\n",
              "      box-shadow: 0px 1px 3px 1px rgba(0, 0, 0, 0.15);\n",
              "      filter: drop-shadow(0px 1px 2px rgba(0, 0, 0, 0.3));\n",
              "      fill: #FFFFFF;\n",
              "    }\n",
              "  </style>\n",
              "\n",
              "      <script>\n",
              "        const buttonEl =\n",
              "          document.querySelector('#df-2e0edaf2-5b48-4e69-ac8d-c7f4c23b067c button.colab-df-convert');\n",
              "        buttonEl.style.display =\n",
              "          google.colab.kernel.accessAllowed ? 'block' : 'none';\n",
              "\n",
              "        async function convertToInteractive(key) {\n",
              "          const element = document.querySelector('#df-2e0edaf2-5b48-4e69-ac8d-c7f4c23b067c');\n",
              "          const dataTable =\n",
              "            await google.colab.kernel.invokeFunction('convertToInteractive',\n",
              "                                                     [key], {});\n",
              "          if (!dataTable) return;\n",
              "\n",
              "          const docLinkHtml = 'Like what you see? Visit the ' +\n",
              "            '<a target=\"_blank\" href=https://colab.research.google.com/notebooks/data_table.ipynb>data table notebook</a>'\n",
              "            + ' to learn more about interactive tables.';\n",
              "          element.innerHTML = '';\n",
              "          dataTable['output_type'] = 'display_data';\n",
              "          await google.colab.output.renderOutput(dataTable, element);\n",
              "          const docLink = document.createElement('div');\n",
              "          docLink.innerHTML = docLinkHtml;\n",
              "          element.appendChild(docLink);\n",
              "        }\n",
              "      </script>\n",
              "    </div>\n",
              "  </div>\n",
              "  "
            ]
          },
          "metadata": {},
          "execution_count": 113
        }
      ]
    },
    {
      "cell_type": "code",
      "source": [
        "pd.pivot_table(df, values=\"D\", index=[\"A\", \"B\"], columns=[\"C\"])"
      ],
      "metadata": {
        "colab": {
          "base_uri": "https://localhost:8080/",
          "height": 363
        },
        "id": "Zk11hQMzbLHV",
        "outputId": "683ad8b6-d54c-46ec-d089-7810565ddffa"
      },
      "execution_count": null,
      "outputs": [
        {
          "output_type": "execute_result",
          "data": {
            "text/plain": [
              "C             bar       foo\n",
              "A     B                    \n",
              "one   A  0.314558  1.240784\n",
              "      B  0.432479 -2.811122\n",
              "      C -0.373389 -1.197840\n",
              "three A  0.679135       NaN\n",
              "      B       NaN  2.087311\n",
              "      C  0.676724       NaN\n",
              "two   A       NaN -0.718784\n",
              "      B  0.010816       NaN\n",
              "      C       NaN  0.777763"
            ],
            "text/html": [
              "\n",
              "  <div id=\"df-f05deb78-789b-4df9-8977-d12d5d59d7a8\">\n",
              "    <div class=\"colab-df-container\">\n",
              "      <div>\n",
              "<style scoped>\n",
              "    .dataframe tbody tr th:only-of-type {\n",
              "        vertical-align: middle;\n",
              "    }\n",
              "\n",
              "    .dataframe tbody tr th {\n",
              "        vertical-align: top;\n",
              "    }\n",
              "\n",
              "    .dataframe thead th {\n",
              "        text-align: right;\n",
              "    }\n",
              "</style>\n",
              "<table border=\"1\" class=\"dataframe\">\n",
              "  <thead>\n",
              "    <tr style=\"text-align: right;\">\n",
              "      <th></th>\n",
              "      <th>C</th>\n",
              "      <th>bar</th>\n",
              "      <th>foo</th>\n",
              "    </tr>\n",
              "    <tr>\n",
              "      <th>A</th>\n",
              "      <th>B</th>\n",
              "      <th></th>\n",
              "      <th></th>\n",
              "    </tr>\n",
              "  </thead>\n",
              "  <tbody>\n",
              "    <tr>\n",
              "      <th rowspan=\"3\" valign=\"top\">one</th>\n",
              "      <th>A</th>\n",
              "      <td>0.314558</td>\n",
              "      <td>1.240784</td>\n",
              "    </tr>\n",
              "    <tr>\n",
              "      <th>B</th>\n",
              "      <td>0.432479</td>\n",
              "      <td>-2.811122</td>\n",
              "    </tr>\n",
              "    <tr>\n",
              "      <th>C</th>\n",
              "      <td>-0.373389</td>\n",
              "      <td>-1.197840</td>\n",
              "    </tr>\n",
              "    <tr>\n",
              "      <th rowspan=\"3\" valign=\"top\">three</th>\n",
              "      <th>A</th>\n",
              "      <td>0.679135</td>\n",
              "      <td>NaN</td>\n",
              "    </tr>\n",
              "    <tr>\n",
              "      <th>B</th>\n",
              "      <td>NaN</td>\n",
              "      <td>2.087311</td>\n",
              "    </tr>\n",
              "    <tr>\n",
              "      <th>C</th>\n",
              "      <td>0.676724</td>\n",
              "      <td>NaN</td>\n",
              "    </tr>\n",
              "    <tr>\n",
              "      <th rowspan=\"3\" valign=\"top\">two</th>\n",
              "      <th>A</th>\n",
              "      <td>NaN</td>\n",
              "      <td>-0.718784</td>\n",
              "    </tr>\n",
              "    <tr>\n",
              "      <th>B</th>\n",
              "      <td>0.010816</td>\n",
              "      <td>NaN</td>\n",
              "    </tr>\n",
              "    <tr>\n",
              "      <th>C</th>\n",
              "      <td>NaN</td>\n",
              "      <td>0.777763</td>\n",
              "    </tr>\n",
              "  </tbody>\n",
              "</table>\n",
              "</div>\n",
              "      <button class=\"colab-df-convert\" onclick=\"convertToInteractive('df-f05deb78-789b-4df9-8977-d12d5d59d7a8')\"\n",
              "              title=\"Convert this dataframe to an interactive table.\"\n",
              "              style=\"display:none;\">\n",
              "        \n",
              "  <svg xmlns=\"http://www.w3.org/2000/svg\" height=\"24px\"viewBox=\"0 0 24 24\"\n",
              "       width=\"24px\">\n",
              "    <path d=\"M0 0h24v24H0V0z\" fill=\"none\"/>\n",
              "    <path d=\"M18.56 5.44l.94 2.06.94-2.06 2.06-.94-2.06-.94-.94-2.06-.94 2.06-2.06.94zm-11 1L8.5 8.5l.94-2.06 2.06-.94-2.06-.94L8.5 2.5l-.94 2.06-2.06.94zm10 10l.94 2.06.94-2.06 2.06-.94-2.06-.94-.94-2.06-.94 2.06-2.06.94z\"/><path d=\"M17.41 7.96l-1.37-1.37c-.4-.4-.92-.59-1.43-.59-.52 0-1.04.2-1.43.59L10.3 9.45l-7.72 7.72c-.78.78-.78 2.05 0 2.83L4 21.41c.39.39.9.59 1.41.59.51 0 1.02-.2 1.41-.59l7.78-7.78 2.81-2.81c.8-.78.8-2.07 0-2.86zM5.41 20L4 18.59l7.72-7.72 1.47 1.35L5.41 20z\"/>\n",
              "  </svg>\n",
              "      </button>\n",
              "      \n",
              "  <style>\n",
              "    .colab-df-container {\n",
              "      display:flex;\n",
              "      flex-wrap:wrap;\n",
              "      gap: 12px;\n",
              "    }\n",
              "\n",
              "    .colab-df-convert {\n",
              "      background-color: #E8F0FE;\n",
              "      border: none;\n",
              "      border-radius: 50%;\n",
              "      cursor: pointer;\n",
              "      display: none;\n",
              "      fill: #1967D2;\n",
              "      height: 32px;\n",
              "      padding: 0 0 0 0;\n",
              "      width: 32px;\n",
              "    }\n",
              "\n",
              "    .colab-df-convert:hover {\n",
              "      background-color: #E2EBFA;\n",
              "      box-shadow: 0px 1px 2px rgba(60, 64, 67, 0.3), 0px 1px 3px 1px rgba(60, 64, 67, 0.15);\n",
              "      fill: #174EA6;\n",
              "    }\n",
              "\n",
              "    [theme=dark] .colab-df-convert {\n",
              "      background-color: #3B4455;\n",
              "      fill: #D2E3FC;\n",
              "    }\n",
              "\n",
              "    [theme=dark] .colab-df-convert:hover {\n",
              "      background-color: #434B5C;\n",
              "      box-shadow: 0px 1px 3px 1px rgba(0, 0, 0, 0.15);\n",
              "      filter: drop-shadow(0px 1px 2px rgba(0, 0, 0, 0.3));\n",
              "      fill: #FFFFFF;\n",
              "    }\n",
              "  </style>\n",
              "\n",
              "      <script>\n",
              "        const buttonEl =\n",
              "          document.querySelector('#df-f05deb78-789b-4df9-8977-d12d5d59d7a8 button.colab-df-convert');\n",
              "        buttonEl.style.display =\n",
              "          google.colab.kernel.accessAllowed ? 'block' : 'none';\n",
              "\n",
              "        async function convertToInteractive(key) {\n",
              "          const element = document.querySelector('#df-f05deb78-789b-4df9-8977-d12d5d59d7a8');\n",
              "          const dataTable =\n",
              "            await google.colab.kernel.invokeFunction('convertToInteractive',\n",
              "                                                     [key], {});\n",
              "          if (!dataTable) return;\n",
              "\n",
              "          const docLinkHtml = 'Like what you see? Visit the ' +\n",
              "            '<a target=\"_blank\" href=https://colab.research.google.com/notebooks/data_table.ipynb>data table notebook</a>'\n",
              "            + ' to learn more about interactive tables.';\n",
              "          element.innerHTML = '';\n",
              "          dataTable['output_type'] = 'display_data';\n",
              "          await google.colab.output.renderOutput(dataTable, element);\n",
              "          const docLink = document.createElement('div');\n",
              "          docLink.innerHTML = docLinkHtml;\n",
              "          element.appendChild(docLink);\n",
              "        }\n",
              "      </script>\n",
              "    </div>\n",
              "  </div>\n",
              "  "
            ]
          },
          "metadata": {},
          "execution_count": 114
        }
      ]
    },
    {
      "cell_type": "markdown",
      "source": [
        "## Time series"
      ],
      "metadata": {
        "id": "6ZpDis2PbTYF"
      }
    },
    {
      "cell_type": "markdown",
      "source": [
        "When doing frequency conversion, pandas features simple, strong, and effective resampling capability (e.g., converting secondly data into 5-minutely data). "
      ],
      "metadata": {
        "id": "rqs_uXyHbrUV"
      }
    },
    {
      "cell_type": "code",
      "source": [
        "rng = pd.date_range(\"1/1/2012\", periods=100, freq=\"S\")\n",
        "\n",
        "ts = pd.Series(np.random.randint(0, 500, len(rng)), index=rng)\n",
        "\n",
        "ts.resample(\"5Min\").sum()"
      ],
      "metadata": {
        "colab": {
          "base_uri": "https://localhost:8080/"
        },
        "id": "qJlKY_QybVS8",
        "outputId": "f7695ed0-8578-4049-909b-d0f6286ca079"
      },
      "execution_count": null,
      "outputs": [
        {
          "output_type": "execute_result",
          "data": {
            "text/plain": [
              "2012-01-01    25590\n",
              "Freq: 5T, dtype: int64"
            ]
          },
          "metadata": {},
          "execution_count": 115
        }
      ]
    },
    {
      "cell_type": "code",
      "source": [
        "# Time zone representation:\n",
        "rng = pd.date_range(\"3/6/2012 00:00\", periods=5, freq=\"D\")\n",
        "ts = pd.Series(np.random.randn(len(rng)), rng)\n",
        "ts"
      ],
      "metadata": {
        "colab": {
          "base_uri": "https://localhost:8080/"
        },
        "id": "1KXzsn-fbvUY",
        "outputId": "4b2cc13d-9077-4b6e-f98b-259a94d213c1"
      },
      "execution_count": null,
      "outputs": [
        {
          "output_type": "execute_result",
          "data": {
            "text/plain": [
              "2012-03-06    1.206995\n",
              "2012-03-07    0.020251\n",
              "2012-03-08    0.468517\n",
              "2012-03-09    0.061232\n",
              "2012-03-10    0.506544\n",
              "Freq: D, dtype: float64"
            ]
          },
          "metadata": {},
          "execution_count": 118
        }
      ]
    },
    {
      "cell_type": "code",
      "source": [
        "ts_utc = ts.tz_localize(\"UTC\")\n",
        "ts_utc"
      ],
      "metadata": {
        "colab": {
          "base_uri": "https://localhost:8080/"
        },
        "id": "WeHDUS9_b4Sd",
        "outputId": "acc441cb-32cf-4139-dbd6-6e52d4c91296"
      },
      "execution_count": null,
      "outputs": [
        {
          "output_type": "execute_result",
          "data": {
            "text/plain": [
              "2012-03-06 00:00:00+00:00    1.206995\n",
              "2012-03-07 00:00:00+00:00    0.020251\n",
              "2012-03-08 00:00:00+00:00    0.468517\n",
              "2012-03-09 00:00:00+00:00    0.061232\n",
              "2012-03-10 00:00:00+00:00    0.506544\n",
              "Freq: D, dtype: float64"
            ]
          },
          "metadata": {},
          "execution_count": 119
        }
      ]
    },
    {
      "cell_type": "code",
      "source": [
        "# Converting to another time zone:\n",
        "ts_utc.tz_convert(\"US/Eastern\")"
      ],
      "metadata": {
        "colab": {
          "base_uri": "https://localhost:8080/"
        },
        "id": "a-1fSOgmb7oG",
        "outputId": "7b939069-530a-4bd2-e839-980ad7fe894e"
      },
      "execution_count": null,
      "outputs": [
        {
          "output_type": "execute_result",
          "data": {
            "text/plain": [
              "2012-03-05 19:00:00-05:00    1.206995\n",
              "2012-03-06 19:00:00-05:00    0.020251\n",
              "2012-03-07 19:00:00-05:00    0.468517\n",
              "2012-03-08 19:00:00-05:00    0.061232\n",
              "2012-03-09 19:00:00-05:00    0.506544\n",
              "Freq: D, dtype: float64"
            ]
          },
          "metadata": {},
          "execution_count": 120
        }
      ]
    },
    {
      "cell_type": "code",
      "source": [
        "# Converting between time span representations:\n",
        "rng = pd.date_range(\"1/1/2012\", periods=5, freq=\"M\")\n",
        "ts = pd.Series(np.random.randn(len(rng)), index=rng)\n",
        "ts"
      ],
      "metadata": {
        "colab": {
          "base_uri": "https://localhost:8080/"
        },
        "id": "OEXNbwsbcBEt",
        "outputId": "a482265b-1dee-4efe-e843-304a92c8013c"
      },
      "execution_count": null,
      "outputs": [
        {
          "output_type": "execute_result",
          "data": {
            "text/plain": [
              "2012-01-31    0.960794\n",
              "2012-02-29    1.790849\n",
              "2012-03-31    0.005231\n",
              "2012-04-30   -0.128008\n",
              "2012-05-31   -0.545929\n",
              "Freq: M, dtype: float64"
            ]
          },
          "metadata": {},
          "execution_count": 121
        }
      ]
    },
    {
      "cell_type": "code",
      "source": [
        "ps = ts.to_period()\n",
        "ps"
      ],
      "metadata": {
        "colab": {
          "base_uri": "https://localhost:8080/"
        },
        "id": "PbSJpY_EcG0d",
        "outputId": "cd02f58e-1bd2-4a7e-b5b7-6d8d1a98b123"
      },
      "execution_count": null,
      "outputs": [
        {
          "output_type": "execute_result",
          "data": {
            "text/plain": [
              "2012-01    0.960794\n",
              "2012-02    1.790849\n",
              "2012-03    0.005231\n",
              "2012-04   -0.128008\n",
              "2012-05   -0.545929\n",
              "Freq: M, dtype: float64"
            ]
          },
          "metadata": {},
          "execution_count": 122
        }
      ]
    },
    {
      "cell_type": "code",
      "source": [
        "ps.to_timestamp()"
      ],
      "metadata": {
        "colab": {
          "base_uri": "https://localhost:8080/"
        },
        "id": "YHzbcc9ncJT9",
        "outputId": "e87649f9-a0a2-4344-b5a6-e804fec6b882"
      },
      "execution_count": null,
      "outputs": [
        {
          "output_type": "execute_result",
          "data": {
            "text/plain": [
              "2012-01-01    0.960794\n",
              "2012-02-01    1.790849\n",
              "2012-03-01    0.005231\n",
              "2012-04-01   -0.128008\n",
              "2012-05-01   -0.545929\n",
              "Freq: MS, dtype: float64"
            ]
          },
          "metadata": {},
          "execution_count": 123
        }
      ]
    },
    {
      "cell_type": "markdown",
      "source": [
        "Some useful arithmetic functions may be utilized by converting between period and timestamp. \n",
        "\n",
        "* In the example below, we change a quarterly frequency with an annual end in November to 9 a.m. on the last day of the month after the quarter's finish:"
      ],
      "metadata": {
        "id": "dUFiCQV4cO0v"
      }
    },
    {
      "cell_type": "code",
      "source": [
        "prng = pd.period_range(\"1990Q1\", \"2000Q4\", freq=\"Q-NOV\")\n",
        "ts = pd.Series(np.random.randn(len(prng)), prng)\n",
        "ts.index = (prng.asfreq(\"M\", \"e\") + 1).asfreq(\"H\", \"s\") + 9\n",
        "ts.head()"
      ],
      "metadata": {
        "colab": {
          "base_uri": "https://localhost:8080/"
        },
        "id": "jlSQ2AWRcP5c",
        "outputId": "bc4ea3d7-521d-4a63-d7e0-eb0a690ce82c"
      },
      "execution_count": null,
      "outputs": [
        {
          "output_type": "execute_result",
          "data": {
            "text/plain": [
              "1990-03-01 09:00   -0.238206\n",
              "1990-06-01 09:00   -0.189755\n",
              "1990-09-01 09:00   -0.375560\n",
              "1990-12-01 09:00    1.454399\n",
              "1991-03-01 09:00    0.273654\n",
              "Freq: H, dtype: float64"
            ]
          },
          "metadata": {},
          "execution_count": 124
        }
      ]
    },
    {
      "cell_type": "markdown",
      "source": [
        "## Categoricals"
      ],
      "metadata": {
        "id": "yd5LeRugcfH9"
      }
    },
    {
      "cell_type": "code",
      "source": [
        "df = pd.DataFrame(\n",
        "    {\"id\": [1, 2, 3, 4, 5, 6], \"raw_grade\": [\"a\", \"b\", \"b\", \"a\", \"a\", \"e\"]}\n",
        ")"
      ],
      "metadata": {
        "id": "ibhE6FCRcgAm"
      },
      "execution_count": null,
      "outputs": []
    },
    {
      "cell_type": "code",
      "source": [
        "df[\"grade\"] = df[\"raw_grade\"].astype(\"category\")\n",
        "df[\"grade\"]"
      ],
      "metadata": {
        "colab": {
          "base_uri": "https://localhost:8080/"
        },
        "id": "dvtCj6Mackns",
        "outputId": "4d677d07-17cd-42a2-8989-a9a1c3f73ae1"
      },
      "execution_count": null,
      "outputs": [
        {
          "output_type": "execute_result",
          "data": {
            "text/plain": [
              "0    a\n",
              "1    b\n",
              "2    b\n",
              "3    a\n",
              "4    a\n",
              "5    e\n",
              "Name: grade, dtype: category\n",
              "Categories (3, object): ['a', 'b', 'e']"
            ]
          },
          "metadata": {},
          "execution_count": 126
        }
      ]
    },
    {
      "cell_type": "code",
      "source": [
        "# Rename the categories to more meaningful names\n",
        "df[\"grade\"].cat.categories = [\"very good\", \"good\", \"very bad\"]"
      ],
      "metadata": {
        "id": "9NealXclcofE"
      },
      "execution_count": null,
      "outputs": []
    },
    {
      "cell_type": "code",
      "source": [
        "# Reorder the categories and simultaneously add the missing categories and return new series\n",
        "df[\"grade\"] = df[\"grade\"].cat.set_categories(\n",
        "    [\"very bad\", \"bad\", \"medium\", \"good\", \"very good\"]\n",
        ")\n",
        "\n",
        "df[\"grade\"]"
      ],
      "metadata": {
        "colab": {
          "base_uri": "https://localhost:8080/"
        },
        "id": "t7lVCepXcte1",
        "outputId": "697a0350-52cc-4cc2-ee0c-c174f9a54773"
      },
      "execution_count": null,
      "outputs": [
        {
          "output_type": "execute_result",
          "data": {
            "text/plain": [
              "0    very good\n",
              "1         good\n",
              "2         good\n",
              "3    very good\n",
              "4    very good\n",
              "5     very bad\n",
              "Name: grade, dtype: category\n",
              "Categories (5, object): ['very bad', 'bad', 'medium', 'good', 'very good']"
            ]
          },
          "metadata": {},
          "execution_count": 129
        }
      ]
    },
    {
      "cell_type": "code",
      "source": [
        "# Sorting is per order in the categories, not lexical order:\n",
        "df.sort_values(by=\"grade\")"
      ],
      "metadata": {
        "colab": {
          "base_uri": "https://localhost:8080/",
          "height": 237
        },
        "id": "QOQtwbwzc3-m",
        "outputId": "8ccb4e43-58c5-47d8-92cd-cf7bef8ac925"
      },
      "execution_count": null,
      "outputs": [
        {
          "output_type": "execute_result",
          "data": {
            "text/plain": [
              "   id raw_grade      grade\n",
              "5   6         e   very bad\n",
              "1   2         b       good\n",
              "2   3         b       good\n",
              "0   1         a  very good\n",
              "3   4         a  very good\n",
              "4   5         a  very good"
            ],
            "text/html": [
              "\n",
              "  <div id=\"df-4edb6a9a-e473-482f-9d85-309f16fc3cb0\">\n",
              "    <div class=\"colab-df-container\">\n",
              "      <div>\n",
              "<style scoped>\n",
              "    .dataframe tbody tr th:only-of-type {\n",
              "        vertical-align: middle;\n",
              "    }\n",
              "\n",
              "    .dataframe tbody tr th {\n",
              "        vertical-align: top;\n",
              "    }\n",
              "\n",
              "    .dataframe thead th {\n",
              "        text-align: right;\n",
              "    }\n",
              "</style>\n",
              "<table border=\"1\" class=\"dataframe\">\n",
              "  <thead>\n",
              "    <tr style=\"text-align: right;\">\n",
              "      <th></th>\n",
              "      <th>id</th>\n",
              "      <th>raw_grade</th>\n",
              "      <th>grade</th>\n",
              "    </tr>\n",
              "  </thead>\n",
              "  <tbody>\n",
              "    <tr>\n",
              "      <th>5</th>\n",
              "      <td>6</td>\n",
              "      <td>e</td>\n",
              "      <td>very bad</td>\n",
              "    </tr>\n",
              "    <tr>\n",
              "      <th>1</th>\n",
              "      <td>2</td>\n",
              "      <td>b</td>\n",
              "      <td>good</td>\n",
              "    </tr>\n",
              "    <tr>\n",
              "      <th>2</th>\n",
              "      <td>3</td>\n",
              "      <td>b</td>\n",
              "      <td>good</td>\n",
              "    </tr>\n",
              "    <tr>\n",
              "      <th>0</th>\n",
              "      <td>1</td>\n",
              "      <td>a</td>\n",
              "      <td>very good</td>\n",
              "    </tr>\n",
              "    <tr>\n",
              "      <th>3</th>\n",
              "      <td>4</td>\n",
              "      <td>a</td>\n",
              "      <td>very good</td>\n",
              "    </tr>\n",
              "    <tr>\n",
              "      <th>4</th>\n",
              "      <td>5</td>\n",
              "      <td>a</td>\n",
              "      <td>very good</td>\n",
              "    </tr>\n",
              "  </tbody>\n",
              "</table>\n",
              "</div>\n",
              "      <button class=\"colab-df-convert\" onclick=\"convertToInteractive('df-4edb6a9a-e473-482f-9d85-309f16fc3cb0')\"\n",
              "              title=\"Convert this dataframe to an interactive table.\"\n",
              "              style=\"display:none;\">\n",
              "        \n",
              "  <svg xmlns=\"http://www.w3.org/2000/svg\" height=\"24px\"viewBox=\"0 0 24 24\"\n",
              "       width=\"24px\">\n",
              "    <path d=\"M0 0h24v24H0V0z\" fill=\"none\"/>\n",
              "    <path d=\"M18.56 5.44l.94 2.06.94-2.06 2.06-.94-2.06-.94-.94-2.06-.94 2.06-2.06.94zm-11 1L8.5 8.5l.94-2.06 2.06-.94-2.06-.94L8.5 2.5l-.94 2.06-2.06.94zm10 10l.94 2.06.94-2.06 2.06-.94-2.06-.94-.94-2.06-.94 2.06-2.06.94z\"/><path d=\"M17.41 7.96l-1.37-1.37c-.4-.4-.92-.59-1.43-.59-.52 0-1.04.2-1.43.59L10.3 9.45l-7.72 7.72c-.78.78-.78 2.05 0 2.83L4 21.41c.39.39.9.59 1.41.59.51 0 1.02-.2 1.41-.59l7.78-7.78 2.81-2.81c.8-.78.8-2.07 0-2.86zM5.41 20L4 18.59l7.72-7.72 1.47 1.35L5.41 20z\"/>\n",
              "  </svg>\n",
              "      </button>\n",
              "      \n",
              "  <style>\n",
              "    .colab-df-container {\n",
              "      display:flex;\n",
              "      flex-wrap:wrap;\n",
              "      gap: 12px;\n",
              "    }\n",
              "\n",
              "    .colab-df-convert {\n",
              "      background-color: #E8F0FE;\n",
              "      border: none;\n",
              "      border-radius: 50%;\n",
              "      cursor: pointer;\n",
              "      display: none;\n",
              "      fill: #1967D2;\n",
              "      height: 32px;\n",
              "      padding: 0 0 0 0;\n",
              "      width: 32px;\n",
              "    }\n",
              "\n",
              "    .colab-df-convert:hover {\n",
              "      background-color: #E2EBFA;\n",
              "      box-shadow: 0px 1px 2px rgba(60, 64, 67, 0.3), 0px 1px 3px 1px rgba(60, 64, 67, 0.15);\n",
              "      fill: #174EA6;\n",
              "    }\n",
              "\n",
              "    [theme=dark] .colab-df-convert {\n",
              "      background-color: #3B4455;\n",
              "      fill: #D2E3FC;\n",
              "    }\n",
              "\n",
              "    [theme=dark] .colab-df-convert:hover {\n",
              "      background-color: #434B5C;\n",
              "      box-shadow: 0px 1px 3px 1px rgba(0, 0, 0, 0.15);\n",
              "      filter: drop-shadow(0px 1px 2px rgba(0, 0, 0, 0.3));\n",
              "      fill: #FFFFFF;\n",
              "    }\n",
              "  </style>\n",
              "\n",
              "      <script>\n",
              "        const buttonEl =\n",
              "          document.querySelector('#df-4edb6a9a-e473-482f-9d85-309f16fc3cb0 button.colab-df-convert');\n",
              "        buttonEl.style.display =\n",
              "          google.colab.kernel.accessAllowed ? 'block' : 'none';\n",
              "\n",
              "        async function convertToInteractive(key) {\n",
              "          const element = document.querySelector('#df-4edb6a9a-e473-482f-9d85-309f16fc3cb0');\n",
              "          const dataTable =\n",
              "            await google.colab.kernel.invokeFunction('convertToInteractive',\n",
              "                                                     [key], {});\n",
              "          if (!dataTable) return;\n",
              "\n",
              "          const docLinkHtml = 'Like what you see? Visit the ' +\n",
              "            '<a target=\"_blank\" href=https://colab.research.google.com/notebooks/data_table.ipynb>data table notebook</a>'\n",
              "            + ' to learn more about interactive tables.';\n",
              "          element.innerHTML = '';\n",
              "          dataTable['output_type'] = 'display_data';\n",
              "          await google.colab.output.renderOutput(dataTable, element);\n",
              "          const docLink = document.createElement('div');\n",
              "          docLink.innerHTML = docLinkHtml;\n",
              "          element.appendChild(docLink);\n",
              "        }\n",
              "      </script>\n",
              "    </div>\n",
              "  </div>\n",
              "  "
            ]
          },
          "metadata": {},
          "execution_count": 130
        }
      ]
    },
    {
      "cell_type": "code",
      "source": [
        "# Grouping by a categorical column also shows empty categories:\n",
        "df.groupby(\"grade\").size()"
      ],
      "metadata": {
        "colab": {
          "base_uri": "https://localhost:8080/"
        },
        "id": "KgFP4aXvc9id",
        "outputId": "16a204e6-4955-4bfb-8f4a-52db00bd8c3c"
      },
      "execution_count": null,
      "outputs": [
        {
          "output_type": "execute_result",
          "data": {
            "text/plain": [
              "grade\n",
              "very bad     1\n",
              "bad          0\n",
              "medium       0\n",
              "good         2\n",
              "very good    3\n",
              "dtype: int64"
            ]
          },
          "metadata": {},
          "execution_count": 131
        }
      ]
    }
  ]
}